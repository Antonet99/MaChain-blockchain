{
 "cells": [
  {
   "cell_type": "code",
   "execution_count": 21,
   "metadata": {},
   "outputs": [
    {
     "data": {
      "text/plain": [
       "(True, True, True, True)"
      ]
     },
     "execution_count": 21,
     "metadata": {},
     "output_type": "execute_result"
    }
   ],
   "source": [
    "from web3 import Web3\n",
    "from solcx import install_solc, compile_standard\n",
    "import solcx\n",
    "import json\n",
    "import os\n",
    "\n",
    "install_solc(version='0.8.0')\n",
    "\n",
    "onchain = Web3(Web3.HTTPProvider('http://localhost:8545')) #on-chain\n",
    "\n",
    "s1 = Web3(Web3.HTTPProvider('http://localhost:8546')) #shard 1\n",
    "s2 = Web3(Web3.HTTPProvider('http://localhost:8547')) #shard 2\n",
    "s3 = Web3(Web3.HTTPProvider('http://localhost:8548')) #shard 3\n",
    "\n",
    "onchain.isConnected(), s1.isConnected(), s2.isConnected(), s3.isConnected()"
   ]
  },
  {
   "cell_type": "code",
   "execution_count": 22,
   "metadata": {},
   "outputs": [],
   "source": [
    "# Finito, si può mettere su python\n",
    "# DEPLOY DELL'ON CHAIN MANAGER\n",
    "\n",
    "# SULLA VERSIONE IN PYTHON VERA E PROPRIA DA FARE ALL'AVVIO E CONTROLLARE DA FILE SE ESISTE GIà\n",
    "\n",
    "path_on_chain = \"prova_on_chain.sol\"\n",
    "# Leggo il file contenente lo smart contract\n",
    "with open(path_on_chain, \"r\") as file:\n",
    "    text_file = file.read()\n",
    "\n",
    "solcx.install_solc('0.8.0')\n",
    "\n",
    "# Compilo il file contenente lo smart contract\n",
    "compiled_sol = compile_standard(\n",
    "        {\n",
    "            \"language\": \"Solidity\",\n",
    "            \"sources\": {\"prova_on_chain.sol\": {\"content\": text_file}},\n",
    "            \"settings\": {\n",
    "                \"outputSelection\": {\n",
    "                    \"*\": {\n",
    "                        \"*\": [\"abi\", \"metadata\", \"evm.bytecode\", \"evm.bytecode.sourceMap\"] # output needed to interact with and deploy contract \n",
    "                    }\n",
    "                }\n",
    "            },\n",
    "        },\n",
    "        solc_version='0.8.0',\n",
    "    )\n",
    "\n",
    "# get bytecodes\n",
    "bytecode = compiled_sol[\"contracts\"][\"prova_on_chain.sol\"][\"on_chain_manager\"][\"evm\"][\"bytecode\"][\"object\"]\n",
    "\n",
    "# get abi\n",
    "abi = json.loads(compiled_sol[\"contracts\"][\"prova_on_chain.sol\"][\"on_chain_manager\"][\"metadata\"])[\"output\"][\"abi\"]\n",
    "\n",
    "# seleziono l'account di default\n",
    "# DA MODIFICARE METTENDO GLI ACCOUNT INSERITI DALL'UTENTE\n",
    "onchain.eth.default_account = onchain.eth.accounts[0]\n",
    "s1.eth.default_account = s1.eth.accounts[0]\n",
    "s2.eth.default_account = s2.eth.accounts[0]\n",
    "s3.eth.default_account = s3.eth.accounts[0]\n",
    "\n",
    "# deploy dello smart contract dell'onchain manager\n",
    "On_Chain_Manager = onchain.eth.contract(abi=abi, bytecode=bytecode)\n",
    "tx_hash = On_Chain_Manager.constructor().transact()\n",
    "tx_receipt = onchain.eth.wait_for_transaction_receipt(tx_hash)\n",
    "\n",
    "# creazione dell'oggetto contract per lo smart contract dell'onchain manager in modo da poterci interagire\n",
    "on_chain_manager = onchain.eth.contract(\n",
    "     address=tx_receipt.contractAddress,\n",
    "     abi=abi\n",
    ")"
   ]
  },
  {
   "cell_type": "code",
   "execution_count": 35,
   "metadata": {},
   "outputs": [
    {
     "name": "stdout",
     "output_type": "stream",
     "text": [
      "Inserisci la path del file solidity dello smart contract di cui fare il deploy\n"
     ]
    }
   ],
   "source": [
    "# codice per far inserire all'utente il path dello smart contract da deployare\n",
    "\n",
    "print(\"Inserisci la path del file solidity dello smart contract di cui fare il deploy\")\n",
    "file_path = input()\n",
    "\n",
    "# controllo che il file esista effettivamente e che sia di tipo .sol\n",
    "while not os.path.exists(file_path) and os.path.splitext(file_path)[1] != \".sol\":\n",
    "    os.system('clear')\n",
    "    print(\"La path deve esistere e il file deve essere di tipo .sol\")\n",
    "    file_path = input()\n",
    "    \n",
    "# Leggo il file contenente lo smart contract\n",
    "with open(file_path, \"r\") as file:\n",
    "    text_file = file.read()"
   ]
  },
  {
   "cell_type": "code",
   "execution_count": 36,
   "metadata": {},
   "outputs": [
    {
     "name": "stdout",
     "output_type": "stream",
     "text": [
      "SimpleStorage.sol\n"
     ]
    }
   ],
   "source": [
    "# codice per ottenere solo con il nome del file\n",
    "import ntpath\n",
    "file_name = ntpath.basename(file_path)\n",
    "print(file_name)"
   ]
  },
  {
   "cell_type": "code",
   "execution_count": 37,
   "metadata": {},
   "outputs": [
    {
     "name": "stdout",
     "output_type": "stream",
     "text": [
      "0.6.0\n"
     ]
    }
   ],
   "source": [
    "# codice per leggere la versione di solidity\n",
    "import re\n",
    "\n",
    "# espressione regolare utilizzata per trovare dentro allo smart contract la versione di solidity richiesta\n",
    "regular_expression = \"pragma solidity .*;\"\n",
    "# ricerca della stringa pragma dentro lo mart contract tramite espressione regolare\n",
    "match = re.search(regular_expression, text_file)\n",
    "# caratteri da rimuovere per rimanere con la stringa composta solo dalla versione di solidity\n",
    "chars_to_rempove = ['>', '^', '=', ';']\n",
    "# rimozione dei caratteri\n",
    "text_version = match.group().split()[2].translate(str.maketrans('','',''.join(chars_to_rempove)))\n",
    "\n",
    "print(text_version)\n"
   ]
  },
  {
   "cell_type": "code",
   "execution_count": 38,
   "metadata": {},
   "outputs": [
    {
     "name": "stdout",
     "output_type": "stream",
     "text": [
      "[]\n"
     ]
    }
   ],
   "source": [
    "# codice per leggere gli import\n",
    "import re\n",
    "\n",
    "# espressione regolare utilizzata per trovare dentro allo smart contract la versione di solidity richiesta\n",
    "regular_expression = \"import .*;\"\n",
    "# ricerca della stringa pragma dentro lo mart contract tramite espressione regolare\n",
    "match = re.findall(regular_expression, text_file)\n",
    "# caratteri da rimuovere per rimanere con la stringa composta solo dalla versione di solidity\n",
    "chars_to_rempove = [';', '\"']\n",
    "# rimozione dei caratteri\n",
    "imports = []\n",
    "for item in match:\n",
    "    import_text = item.split()[1]\n",
    "    import_text = import_text.translate(str.maketrans('','',''.join(chars_to_rempove)))\n",
    "    imports.append(import_text)\n",
    "\n",
    "print(imports)"
   ]
  },
  {
   "cell_type": "code",
   "execution_count": 39,
   "metadata": {},
   "outputs": [
    {
     "name": "stdout",
     "output_type": "stream",
     "text": [
      "[[{'inputs': [{'internalType': 'string', 'name': '_name', 'type': 'string'}, {'internalType': 'uint256', 'name': '_favoriteNumber', 'type': 'uint256'}], 'name': 'addPerson', 'outputs': [], 'stateMutability': 'nonpayable', 'type': 'function'}, {'inputs': [{'internalType': 'string', 'name': '', 'type': 'string'}], 'name': 'nameToFavoriteNumber', 'outputs': [{'internalType': 'uint256', 'name': '', 'type': 'uint256'}], 'stateMutability': 'view', 'type': 'function'}, {'inputs': [{'internalType': 'uint256', 'name': '', 'type': 'uint256'}], 'name': 'people', 'outputs': [{'internalType': 'uint256', 'name': 'favoriteNumber', 'type': 'uint256'}, {'internalType': 'string', 'name': 'name', 'type': 'string'}], 'stateMutability': 'view', 'type': 'function'}, {'inputs': [], 'name': 'retrieve', 'outputs': [{'internalType': 'uint256', 'name': '', 'type': 'uint256'}], 'stateMutability': 'view', 'type': 'function'}, {'inputs': [{'internalType': 'uint256', 'name': '_favoriteNumber', 'type': 'uint256'}], 'name': 'store', 'outputs': [], 'stateMutability': 'nonpayable', 'type': 'function'}]]\n"
     ]
    }
   ],
   "source": [
    "try:\n",
    "    # Installo la versione del compilatore richiesta dallo smart contract\n",
    "    solcx.install_solc(text_version)\n",
    "\n",
    "    #compilo il file\n",
    "    compiled_solidity = solcx.compile_files([file_path], solc_version=text_version)\n",
    "\n",
    "    # estraggo i bytecode degli smart contract compilati\n",
    "    bytecodes = []\n",
    "    for key in compiled_solidity.keys():\n",
    "        bytecodes.append(compiled_solidity[key]['bin'])\n",
    "\n",
    "    # estraggo le abi degli smart contract\n",
    "    abis = []\n",
    "    for key in compiled_solidity.keys():\n",
    "        abis.append(json.loads(json.dumps(compiled_solidity[key]))['abi'])\n",
    "    print(abis)\n",
    "\n",
    "except Exception as exception: \n",
    "    os.system('clear')\n",
    "    #viene preso l'output restituito da solc e stampata sulla console solo l'informazione di interesse. \n",
    "    jsonError = json.loads(json.dumps(exception.__dict__))\n",
    "    #items = jsonError[\"error_dict\"][0]\n",
    "    print(\"Attenzione! E' stato generato il seguente errore: \\n\" + jsonError[\"stderr_data\"]\n",
    "          + \"In \"+ \"\\\"\" +jsonError[\"command\"][1]+ \"\\\"\"+\n",
    "          \", con return code: \" + str(jsonError[\"return_code\"])+ \".\")\n",
    "    #return\n"
   ]
  },
  {
   "cell_type": "code",
   "execution_count": 40,
   "metadata": {},
   "outputs": [
    {
     "name": "stdout",
     "output_type": "stream",
     "text": [
      "['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']\n"
     ]
    }
   ],
   "source": [
    "print(bytecodes)"
   ]
  },
  {
   "cell_type": "code",
   "execution_count": 41,
   "metadata": {},
   "outputs": [],
   "source": [
    "# Se gli smart contract presenti nel file .sol sono più di uno bisgona chiedere all'utente quali lui voglia deployare\n",
    "\n",
    "if len(bytecodes) > 1:\n",
    "    os.system('clear')\n",
    "    print(\"Nel file sol appena compilato sono presenti più di uno smart contract. \\n\"\n",
    "          + \"Gli smart contract compilati sono: \"\n",
    "    )\n",
    "\n",
    "    # inizializzo il vettore delle possibili selezioni\n",
    "    possibili_selezioni = []\n",
    "\n",
    "    # Stampo i nomi degli smart contract compilati con accanto un indice per la selezione\n",
    "    # Lo stesso indice viene inserito nell'array delle possibili selezioni se si riferisce ad uno smart contract che\n",
    "    # non sia un abstract contract o un interfaccia\n",
    "    for index, key in enumerate(compiled_solidity.keys()):\n",
    "        if bytecodes[index] != '':\n",
    "            print(str(index) + ') ' + str(key).split(':')[1])\n",
    "            possibili_selezioni.append(str(index))\n",
    "        else:\n",
    "            print(str(index) + ') ' + str(key).split(':')[1] + ' [non è possibile effettuarne il deploy]')\n",
    "    print(\"NB: Delle interfacce e gli abstract contract non può essere effettuato il deploy.\")\n",
    "    print(\"Di quale smart contract vuoi fare il deploy? [inserire il numero di fianco al nome dello smart contract]\")\n",
    "\n",
    "    selezione =input()\n",
    "\n",
    "    # controllo che l'utente abbia selezionato un indice possibile\n",
    "    while str(selezione) not in possibili_selezioni:\n",
    "        print(\"Inserisci un indice tra quelli degli smart contract di cui è possibile fare il deploy\")\n",
    "        selezione = input()\n",
    "    \n",
    "    indice_selezionato = int(selezione)\n",
    "    abi_to_deploy = abis[indice_selezionato]\n",
    "    bytecode_to_deploy = bytecodes[indice_selezionato]\n",
    "\n",
    "else:\n",
    "    if bytecodes[0] == '':\n",
    "        os.system('clear')\n",
    "        print(\"Lo smart contract presente nel file .sol è una interfeccia o un contratto astratto, \\n\"\n",
    "              + \"non è quindi possibile effettuarno il deploy\"\n",
    "        )\n",
    "        # return\n",
    "    else:\n",
    "        abi_to_deploy = abis[0]\n",
    "        bytecode_to_deploy = bytecodes[0]\n",
    "\n",
    "# controllino in più che lo smart contract selezionato si effettivamente deployabiles\n",
    "if bytecode_to_deploy == '':\n",
    "    print('Errore, dello smart contract da te selezionato non può essere fatto il deploy')\n",
    "    # return\n",
    "    "
   ]
  },
  {
   "cell_type": "code",
   "execution_count": 42,
   "metadata": {},
   "outputs": [
    {
     "name": "stdout",
     "output_type": "stream",
     "text": [
      "2\n"
     ]
    }
   ],
   "source": [
    "try:\n",
    "     # richiesta all'on-chain-manager su quale shard deployare lo smart contract\n",
    "     shard_where_deploy = on_chain_manager.functions.get_shard_where_deploy().call()\n",
    "     print(shard_where_deploy)\n",
    "except Exception as exception:\n",
    "     os.system('clear')\n",
    "     print(\"Errore: \")\n",
    "     print(exception)\n",
    "     print(\"La richiesta, allo smart contract on-chain manager, riguardo la shard su cui fare il deploy dello smart contract non è andata a buon fine\")\n",
    "     # return\n"
   ]
  },
  {
   "cell_type": "code",
   "execution_count": 43,
   "metadata": {},
   "outputs": [],
   "source": [
    "# controllo aggiuntivo che non fa mai male\n",
    "if shard_where_deploy<1 or shard_where_deploy>3:\n",
    "     print(\n",
    "          \"Errore: \\n\"\n",
    "          + \"La shard su cui effettuare il deploy dello smart contract deve essere compresa tra 1 e 3\"\n",
    "     )\n",
    "\n",
    "# switch in base alla shard sulla quale effettuare il deploy\n",
    "if shard_where_deploy == 1:\n",
    "     blockchain_where_deploy = s1\n",
    "elif shard_where_deploy == 2:\n",
    "     blockchain_where_deploy = s2\n",
    "elif shard_where_deploy == 3:\n",
    "     blockchain_where_deploy = s3"
   ]
  },
  {
   "cell_type": "code",
   "execution_count": 44,
   "metadata": {},
   "outputs": [
    {
     "name": "stdout",
     "output_type": "stream",
     "text": [
      "Bilancio wallet utente sulla shard sulla quale fare il deploy: \n",
      "3.333333333333333e+20 Gwei\n",
      "Bilancio wallet utente sulla blockchain dell'on-chain manager: \n",
      "3.333328964788532e+20 Gwei\n"
     ]
    }
   ],
   "source": [
    "# stima del gas necessario per fare il deploy dello smart contract e per aggiornare l'on-chain manager\n",
    "contratto = blockchain_where_deploy.eth.contract(abi=abi_to_deploy, bytecode=bytecode_to_deploy)\n",
    "\n",
    "# gas price fisso impostato da noi (Gwei)\n",
    "gas_price_shard = 20\n",
    "gas_price_onchain = 20\n",
    "\n",
    "# stima vera e propria del gas necessario per le due transazioni\n",
    "stima_gas_deploy = contratto.constructor().estimate_gas()\n",
    "stima_gas_aggiornamento_on_chain = on_chain_manager.functions.register_contract('0x0000000000000000000000000000000000000000', shard_where_deploy).estimate_gas()\n",
    "\n",
    "# stima dei costi delle due transazioni, in Gwei, tenendo conto del presso fisso definito sopra\n",
    "stima_costo_deploy = stima_gas_deploy * gas_price_shard\n",
    "stima_costo_aggiornamento_onchain = stima_gas_aggiornamento_on_chain * gas_price_onchain\n",
    "\n",
    "# MODIFICARE METTENDO COME ACCOUNT GLI INDIRIZZI DELL'UTENTE SULLE VARIE BLOCKCHAIN\n",
    "bilancio_onchain_gwei = onchain.eth.get_balance(onchain.eth.accounts[0])/(10^9)\n",
    "bilancio_shard_gwei = blockchain_where_deploy.eth.get_balance(blockchain_where_deploy.eth.accounts[0])/(10^9)\n",
    "\n",
    "print(\"Bilancio wallet utente sulla shard sulla quale fare il deploy: \\n\" + str(bilancio_shard_gwei)+' Gwei')\n",
    "print(\"Bilancio wallet utente sulla blockchain dell'on-chain manager: \\n\" +str(bilancio_onchain_gwei)+' Gwei')\n",
    "\n",
    "\n",
    "\n",
    "if (stima_costo_deploy > bilancio_shard_gwei) or (stima_costo_aggiornamento_onchain > bilancio_onchain_gwei):\n",
    "    os.system('clear')\n",
    "\n",
    "    if (stima_costo_deploy > bilancio_shard_gwei):\n",
    "        print(\n",
    "            \"Attenzione: \\n\"\n",
    "            + \"Il gas a tua disposizione potrebbe non essere sufficiente a completare il deploy dello smart contract sulla shard interessata!\"\n",
    "        )\n",
    "    if (stima_costo_aggiornamento_onchain > bilancio_onchain_gwei):\n",
    "        print(\n",
    "            \"Attenzione: \\n\"\n",
    "            + \"Il gas a tua disposizione potrebbe non essere sufficiente a completare l'aggiornamento dell'on-chain manager!\"\n",
    "        )\n",
    "    \n",
    "    print(\n",
    "        \"Se vuoi, puoi comunque procedere e tentare di effettuare il deploy dello smart contract. \\n\"\n",
    "        + \"Tuttavia se anche solo una delle due transazioni non dovessero andare a buon fine perderai il gas investito. \\n\"\n",
    "        + \"Vuoi procedere? [s/n]\"\n",
    "    )\n",
    "    selezione = ''\n",
    "    selezione = input()\n",
    "    while (selezione != 's' or selezione != 'n'):\n",
    "        print(\"Inserire solo s oopure n!\")\n",
    "        selezione = input()\n",
    "\n",
    "    # Decommentare il return e cancellare il pass quando verrà messo in una funzione python vera e propria\n",
    "    if selezione == 'n':\n",
    "        pass\n",
    "        # return"
   ]
  },
  {
   "cell_type": "code",
   "execution_count": 45,
   "metadata": {},
   "outputs": [
    {
     "name": "stdout",
     "output_type": "stream",
     "text": [
      "0x03674b3206ba60b8C157D0397e13d75aAD29f7aA\n"
     ]
    }
   ],
   "source": [
    "# esecuzione della transazione di deploy dello smart contract\n",
    "try:\n",
    "     tx_hash = contratto.constructor().transact()\n",
    "     tx_receipt = blockchain_where_deploy.eth.wait_for_transaction_receipt(tx_hash)\n",
    "except Exception as exception:\n",
    "     os.system('clear')\n",
    "     print(\"Errore: \\n\")\n",
    "     print(exception)\n",
    "     print(\"La transazione di deploy dello smart contract non è andata a buon fine\")\n",
    "\n",
    "\n",
    "# creazione dell'oggetto contratto per interagirci\n",
    "contratto_deployato = blockchain_where_deploy.eth.contract(\n",
    "     address=tx_receipt.contractAddress,\n",
    "     abi=abi\n",
    ")\n",
    "\n",
    "# stampa dell'indirizzo del contratto appena deployato\n",
    "print(contratto_deployato.address)\n"
   ]
  },
  {
   "cell_type": "code",
   "execution_count": 46,
   "metadata": {},
   "outputs": [
    {
     "name": "stdout",
     "output_type": "stream",
     "text": [
      "3\n"
     ]
    }
   ],
   "source": [
    "# Registro che il contratto è stato deployato sull'onchain manager\n",
    "try:\n",
    "    on_chain_manager.functions.register_contract(contratto_deployato.address, shard_where_deploy).transact()\n",
    "except Exception as exception:\n",
    "     os.system('clear')\n",
    "     print(\"Errore: \\n\")\n",
    "     print(exception)\n",
    "     print(\"La transazione di aggiornamento dell'on-chain manager non è andata a buon fine\")\n",
    "\n",
    "# Test per vedere se il prossimo smart contract viene detto di deployarlo sulla shard dopo\n",
    "print(on_chain_manager.functions.get_shard_where_deploy().call())"
   ]
  }
 ],
 "metadata": {
  "kernelspec": {
   "display_name": "Python 3",
   "language": "python",
   "name": "python3"
  },
  "language_info": {
   "codemirror_mode": {
    "name": "ipython",
    "version": 3
   },
   "file_extension": ".py",
   "mimetype": "text/x-python",
   "name": "python",
   "nbconvert_exporter": "python",
   "pygments_lexer": "ipython3",
   "version": "3.9.2"
  },
  "orig_nbformat": 4
 },
 "nbformat": 4,
 "nbformat_minor": 2
}
