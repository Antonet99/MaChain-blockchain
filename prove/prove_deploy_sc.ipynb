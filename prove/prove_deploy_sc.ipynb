{
 "cells": [
  {
   "cell_type": "code",
   "execution_count": 1,
   "metadata": {},
   "outputs": [
    {
     "data": {
      "text/plain": [
       "(True, True, False, False)"
      ]
     },
     "execution_count": 1,
     "metadata": {},
     "output_type": "execute_result"
    }
   ],
   "source": [
    "from web3 import Web3\n",
    "from solcx import install_solc, compile_standard\n",
    "import solcx\n",
    "import json\n",
    "import os\n",
    "\n",
    "install_solc(version='0.8.0')\n",
    "\n",
    "onchain = Web3(Web3.HTTPProvider('http://localhost:8545')) #on-chain\n",
    "\n",
    "s1 = Web3(Web3.HTTPProvider('http://localhost:8546')) #shard 1\n",
    "s2 = Web3(Web3.HTTPProvider('http://localhost:8547')) #shard 2\n",
    "s3 = Web3(Web3.HTTPProvider('http://localhost:8548')) #shard 3\n",
    "\n",
    "onchain.isConnected(), s1.isConnected(), s2.isConnected(), s3.isConnected()"
   ]
  },
  {
   "cell_type": "code",
   "execution_count": 4,
   "metadata": {},
   "outputs": [
    {
     "name": "stdout",
     "output_type": "stream",
     "text": [
      "Inserisci la path del file solidity dello smart contract di cui fare il deploy\n"
     ]
    }
   ],
   "source": [
    "# codice per far inserire all'utente il path dello smart contract da deployare\n",
    "\n",
    "print(\"Inserisci la path del file solidity dello smart contract di cui fare il deploy\")\n",
    "file_path = input()\n",
    "\n",
    "# controllo che il file esista effettivamente e che sia di tipo .sol\n",
    "while not os.path.exists(file_path) and os.path.splitext(file_path)[1] != \".sol\":\n",
    "    os.system('clear')\n",
    "    print(\"La path deve esistere e il file deve essere di tipo .sol\")\n",
    "    file_path = input()\n",
    "    \n",
    "# Leggo il file contenente lo smart contract\n",
    "with open(file_path, \"r\") as file:\n",
    "    prova_on_chain_file = file.read()"
   ]
  },
  {
   "cell_type": "code",
   "execution_count": 10,
   "metadata": {},
   "outputs": [
    {
     "ename": "SolcError",
     "evalue": "ParserError: Expected ';' but got '('\n  --> prova_on_chain.sol:25:36:\n   |\n25 |     unction get_shard_where_deploy () public view returns (uint8 shard_number) {\n   |                                    ^\n\n\n> command: `/Users/andreacivitarese/.solcx/solc-v0.8.0 --standard-json`\n> return code: `0`\n> stdout:\n{\"errors\":[{\"component\":\"general\",\"errorCode\":\"2314\",\"formattedMessage\":\"ParserError: Expected ';' but got '('\\n  --> prova_on_chain.sol:25:36:\\n   |\\n25 |     unction get_shard_where_deploy () public view returns (uint8 shard_number) {\\n   |                                    ^\\n\\n\",\"message\":\"Expected ';' but got '('\",\"severity\":\"error\",\"sourceLocation\":{\"end\":1308,\"file\":\"prova_on_chain.sol\",\"start\":1307},\"type\":\"ParserError\"}],\"sources\":{}}\n\n> stderr:",
     "output_type": "error",
     "traceback": [
      "\u001b[0;31m---------------------------------------------------------------------------\u001b[0m",
      "\u001b[0;31mSolcError\u001b[0m                                 Traceback (most recent call last)",
      "Cell \u001b[0;32mIn[10], line 3\u001b[0m\n\u001b[1;32m      1\u001b[0m \u001b[39m#try:\u001b[39;00m\n\u001b[1;32m      2\u001b[0m     \u001b[39m# Compilo il file contenente lo smart contract\u001b[39;00m\n\u001b[0;32m----> 3\u001b[0m compiled_sol \u001b[39m=\u001b[39m compile_standard(\n\u001b[1;32m      4\u001b[0m         {\n\u001b[1;32m      5\u001b[0m             \u001b[39m\"\u001b[39;49m\u001b[39mlanguage\u001b[39;49m\u001b[39m\"\u001b[39;49m: \u001b[39m\"\u001b[39;49m\u001b[39mSolidity\u001b[39;49m\u001b[39m\"\u001b[39;49m,\n\u001b[1;32m      6\u001b[0m             \u001b[39m\"\u001b[39;49m\u001b[39msources\u001b[39;49m\u001b[39m\"\u001b[39;49m: {\u001b[39m\"\u001b[39;49m\u001b[39mprova_on_chain.sol\u001b[39;49m\u001b[39m\"\u001b[39;49m: {\u001b[39m\"\u001b[39;49m\u001b[39mcontent\u001b[39;49m\u001b[39m\"\u001b[39;49m: prova_on_chain_file}},\n\u001b[1;32m      7\u001b[0m             \u001b[39m\"\u001b[39;49m\u001b[39msettings\u001b[39;49m\u001b[39m\"\u001b[39;49m: {\n\u001b[1;32m      8\u001b[0m                 \u001b[39m\"\u001b[39;49m\u001b[39moutputSelection\u001b[39;49m\u001b[39m\"\u001b[39;49m: {\n\u001b[1;32m      9\u001b[0m                     \u001b[39m\"\u001b[39;49m\u001b[39m*\u001b[39;49m\u001b[39m\"\u001b[39;49m: {\n\u001b[1;32m     10\u001b[0m                         \u001b[39m\"\u001b[39;49m\u001b[39m*\u001b[39;49m\u001b[39m\"\u001b[39;49m: [\u001b[39m\"\u001b[39;49m\u001b[39mabi\u001b[39;49m\u001b[39m\"\u001b[39;49m, \u001b[39m\"\u001b[39;49m\u001b[39mmetadata\u001b[39;49m\u001b[39m\"\u001b[39;49m, \u001b[39m\"\u001b[39;49m\u001b[39mevm.bytecode\u001b[39;49m\u001b[39m\"\u001b[39;49m, \u001b[39m\"\u001b[39;49m\u001b[39mevm.bytecode.sourceMap\u001b[39;49m\u001b[39m\"\u001b[39;49m] \u001b[39m# output needed to interact with and deploy contract \u001b[39;49;00m\n\u001b[1;32m     11\u001b[0m                     }\n\u001b[1;32m     12\u001b[0m                 }\n\u001b[1;32m     13\u001b[0m             },\n\u001b[1;32m     14\u001b[0m         },\n\u001b[1;32m     15\u001b[0m         solc_version\u001b[39m=\u001b[39;49m\u001b[39m\"\u001b[39;49m\u001b[39m0.8.0\u001b[39;49m\u001b[39m\"\u001b[39;49m,\n\u001b[1;32m     16\u001b[0m     )\n\u001b[1;32m     18\u001b[0m     \u001b[39m# get bytecode\u001b[39;00m\n\u001b[1;32m     19\u001b[0m bytecode \u001b[39m=\u001b[39m compiled_sol[\u001b[39m\"\u001b[39m\u001b[39mcontracts\u001b[39m\u001b[39m\"\u001b[39m][\u001b[39m\"\u001b[39m\u001b[39mprova_on_chain.sol\u001b[39m\u001b[39m\"\u001b[39m][\u001b[39m\"\u001b[39m\u001b[39mon_chain_manager\u001b[39m\u001b[39m\"\u001b[39m][\u001b[39m\"\u001b[39m\u001b[39mevm\u001b[39m\u001b[39m\"\u001b[39m][\u001b[39m\"\u001b[39m\u001b[39mbytecode\u001b[39m\u001b[39m\"\u001b[39m][\u001b[39m\"\u001b[39m\u001b[39mobject\u001b[39m\u001b[39m\"\u001b[39m]\n",
      "File \u001b[0;32m/Library/Frameworks/Python.framework/Versions/3.9/lib/python3.9/site-packages/solcx/main.py:394\u001b[0m, in \u001b[0;36mcompile_standard\u001b[0;34m(input_data, base_path, allow_paths, output_dir, overwrite, solc_binary, solc_version, allow_empty)\u001b[0m\n\u001b[1;32m    386\u001b[0m     \u001b[39mif\u001b[39;00m has_errors:\n\u001b[1;32m    387\u001b[0m         error_message \u001b[39m=\u001b[39m \u001b[39m\"\u001b[39m\u001b[39m\\n\u001b[39;00m\u001b[39m\"\u001b[39m\u001b[39m.\u001b[39mjoin(\n\u001b[1;32m    388\u001b[0m             \u001b[39mtuple\u001b[39m(\n\u001b[1;32m    389\u001b[0m                 error[\u001b[39m\"\u001b[39m\u001b[39mformattedMessage\u001b[39m\u001b[39m\"\u001b[39m]\n\u001b[0;32m   (...)\u001b[0m\n\u001b[1;32m    392\u001b[0m             )\n\u001b[1;32m    393\u001b[0m         )\n\u001b[0;32m--> 394\u001b[0m         \u001b[39mraise\u001b[39;00m SolcError(\n\u001b[1;32m    395\u001b[0m             error_message,\n\u001b[1;32m    396\u001b[0m             command\u001b[39m=\u001b[39mcommand,\n\u001b[1;32m    397\u001b[0m             return_code\u001b[39m=\u001b[39mproc\u001b[39m.\u001b[39mreturncode,\n\u001b[1;32m    398\u001b[0m             stdin_data\u001b[39m=\u001b[39mjson\u001b[39m.\u001b[39mdumps(input_data),\n\u001b[1;32m    399\u001b[0m             stdout_data\u001b[39m=\u001b[39mstdoutdata,\n\u001b[1;32m    400\u001b[0m             stderr_data\u001b[39m=\u001b[39mstderrdata,\n\u001b[1;32m    401\u001b[0m             error_dict\u001b[39m=\u001b[39mcompiler_output[\u001b[39m\"\u001b[39m\u001b[39merrors\u001b[39m\u001b[39m\"\u001b[39m],\n\u001b[1;32m    402\u001b[0m         )\n\u001b[1;32m    403\u001b[0m \u001b[39mreturn\u001b[39;00m compiler_output\n",
      "\u001b[0;31mSolcError\u001b[0m: ParserError: Expected ';' but got '('\n  --> prova_on_chain.sol:25:36:\n   |\n25 |     unction get_shard_where_deploy () public view returns (uint8 shard_number) {\n   |                                    ^\n\n\n> command: `/Users/andreacivitarese/.solcx/solc-v0.8.0 --standard-json`\n> return code: `0`\n> stdout:\n{\"errors\":[{\"component\":\"general\",\"errorCode\":\"2314\",\"formattedMessage\":\"ParserError: Expected ';' but got '('\\n  --> prova_on_chain.sol:25:36:\\n   |\\n25 |     unction get_shard_where_deploy () public view returns (uint8 shard_number) {\\n   |                                    ^\\n\\n\",\"message\":\"Expected ';' but got '('\",\"severity\":\"error\",\"sourceLocation\":{\"end\":1308,\"file\":\"prova_on_chain.sol\",\"start\":1307},\"type\":\"ParserError\"}],\"sources\":{}}\n\n> stderr:"
     ]
    }
   ],
   "source": [
    "try:\n",
    "    # Compilo il file contenente lo smart contract\n",
    "    compiled_sol = compile_standard(\n",
    "        {\n",
    "            \"language\": \"Solidity\",\n",
    "            \"sources\": {\"prova_on_chain.sol\": {\"content\": prova_on_chain_file}},\n",
    "            \"settings\": {\n",
    "                \"outputSelection\": {\n",
    "                    \"*\": {\n",
    "                        \"*\": [\"abi\", \"metadata\", \"evm.bytecode\", \"evm.bytecode.sourceMap\"] # output needed to interact with and deploy contract \n",
    "                    }\n",
    "                }\n",
    "            },\n",
    "        },\n",
    "        solc_version=\"0.8.0\",\n",
    "    )\n",
    "\n",
    "    # get bytecode\n",
    "    bytecode = compiled_sol[\"contracts\"][\"prova_on_chain.sol\"][\"on_chain_manager\"][\"evm\"][\"bytecode\"][\"object\"]\n",
    "    # get abi\n",
    "    abi = json.loads(compiled_sol[\"contracts\"][\"prova_on_chain.sol\"][\"on_chain_manager\"][\"metadata\"])[\"output\"][\"abi\"]\n",
    "\n",
    "except:\n",
    "    os.system('clear')\n",
    "    print(\"La compilazione dello smart contract non è andata a buon fine\")"
   ]
  }
 ],
 "metadata": {
  "kernelspec": {
   "display_name": "Python 3",
   "language": "python",
   "name": "python3"
  },
  "language_info": {
   "codemirror_mode": {
    "name": "ipython",
    "version": 3
   },
   "file_extension": ".py",
   "mimetype": "text/x-python",
   "name": "python",
   "nbconvert_exporter": "python",
   "pygments_lexer": "ipython3",
   "version": "3.9.2"
  },
  "orig_nbformat": 4
 },
 "nbformat": 4,
 "nbformat_minor": 2
}
