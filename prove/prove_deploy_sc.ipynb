{
 "cells": [
  {
   "cell_type": "code",
   "execution_count": 1,
   "metadata": {},
   "outputs": [
    {
     "data": {
      "text/plain": [
       "(True, True, True, True)"
      ]
     },
     "execution_count": 1,
     "metadata": {},
     "output_type": "execute_result"
    }
   ],
   "source": [
    "from web3 import Web3\n",
    "from solcx import install_solc, compile_standard\n",
    "import solcx\n",
    "import json\n",
    "import os\n",
    "\n",
    "install_solc(version='0.8.0')\n",
    "\n",
    "onchain = Web3(Web3.HTTPProvider('http://localhost:8545')) #on-chain\n",
    "\n",
    "s1 = Web3(Web3.HTTPProvider('http://localhost:8546')) #shard 1\n",
    "s2 = Web3(Web3.HTTPProvider('http://localhost:8547')) #shard 2\n",
    "s3 = Web3(Web3.HTTPProvider('http://localhost:8548')) #shard 3\n",
    "\n",
    "onchain.isConnected(), s1.isConnected(), s2.isConnected(), s3.isConnected()"
   ]
  },
  {
   "cell_type": "code",
   "execution_count": 2,
   "metadata": {},
   "outputs": [],
   "source": [
    "import os\n",
    "import json\n",
    "\n",
    "#occhio: se modifichiamo i path, tenere d'occhio la variabile file_path\n",
    "def save_sc_datas(address, abi , shard_where_deploy, is_onchain=False):\n",
    "    result = {address : abi}\n",
    "    if is_onchain:\n",
    "        file_path = \"../ABIs/onchain.json\"\n",
    "    else:\n",
    "        file_path = \"../ABIs/shard_\"+str(shard_where_deploy)+\".json\"\n",
    "        if os.path.exists(file_path):\n",
    "            with open(file_path) as json_file:\n",
    "                data = json.load(json_file)\n",
    "                result = data | result\n",
    "    f = open(file_path, 'w+')  \n",
    "    f.write(json.dumps(result))\n",
    "    f.close()"
   ]
  },
  {
   "cell_type": "code",
   "execution_count": 3,
   "metadata": {},
   "outputs": [],
   "source": [
    "# DEPLOY DELL'ON CHAIN MANAGER\n",
    "\n",
    "path_on_chain = \"prova_on_chain.sol\"\n",
    "# Leggo il file contenente lo smart contract\n",
    "with open(path_on_chain, \"r\") as file:\n",
    "    text_file = file.read()\n",
    "\n",
    "solcx.install_solc('0.8.0')\n",
    "\n",
    "# Compilo il file contenente lo smart contract\n",
    "compiled_sol = compile_standard(\n",
    "        {\n",
    "            \"language\": \"Solidity\",\n",
    "            \"sources\": {\"prova_on_chain.sol\": {\"content\": text_file}},\n",
    "            \"settings\": {\n",
    "                \"outputSelection\": {\n",
    "                    \"*\": {\n",
    "                        \"*\": [\"abi\", \"metadata\", \"evm.bytecode\", \"evm.bytecode.sourceMap\"] # output needed to interact with and deploy contract \n",
    "                    }\n",
    "                }\n",
    "            },\n",
    "        },\n",
    "        solc_version='0.8.0',\n",
    "    )\n",
    "\n",
    "# get bytecodes\n",
    "bytecode = compiled_sol[\"contracts\"][\"prova_on_chain.sol\"][\"on_chain_manager\"][\"evm\"][\"bytecode\"][\"object\"]\n",
    "\n",
    "# get abi\n",
    "abi = json.loads(compiled_sol[\"contracts\"][\"prova_on_chain.sol\"][\"on_chain_manager\"][\"metadata\"])[\"output\"][\"abi\"]\n",
    "\n",
    "# seleziono l'account di default\n",
    "# DA MODIFICARE METTENDO GLI ACCOUNT INSERITI DALL'UTENTE\n",
    "onchain.eth.default_account = onchain.eth.accounts[0]\n",
    "s1.eth.default_account = s1.eth.accounts[0]\n",
    "s2.eth.default_account = s2.eth.accounts[0]\n",
    "s3.eth.default_account = s3.eth.accounts[0]\n",
    "\n",
    "# deploy dello smart contract dell'onchain manager\n",
    "On_Chain_Manager = onchain.eth.contract(abi=abi, bytecode=bytecode)\n",
    "tx_hash = On_Chain_Manager.constructor().transact()\n",
    "tx_receipt = onchain.eth.wait_for_transaction_receipt(tx_hash)\n",
    "\n",
    "# creazione dell'oggetto contract per lo smart contract dell'onchain manager in modo da poterci interagire\n",
    "on_chain_manager = onchain.eth.contract(\n",
    "     address=tx_receipt.contractAddress,\n",
    "     abi=abi\n",
    ")"
   ]
  },
  {
   "cell_type": "code",
   "execution_count": 4,
   "metadata": {},
   "outputs": [],
   "source": [
    "save_sc_datas(on_chain_manager.address, abi, 0, True)"
   ]
  },
  {
   "cell_type": "code",
   "execution_count": 2,
   "metadata": {
    "ExecuteTime": {
     "start_time": "2023-05-04T10:40:10.597735Z",
     "end_time": "2023-05-04T10:40:12.650480Z"
    }
   },
   "outputs": [
    {
     "name": "stdout",
     "output_type": "stream",
     "text": [
      "Inserisci la path del file solidity dello smart contract di cui fare il deploy\n"
     ]
    }
   ],
   "source": [
    "import os\n",
    "# codice per far inserire all'utente il path dello smart contract da deployare\n",
    "\n",
    "print(\"Inserisci la path del file solidity dello smart contract di cui fare il deploy\")\n",
    "file_path = input()\n",
    "\n",
    "# controllo che il file esista effettivamente e che sia di tipo .sol\n",
    "while not os.path.exists(file_path) and os.path.splitext(file_path)[1] != \".sol\":\n",
    "    os.system('clear')\n",
    "    print(\"La path deve esistere e il file deve essere di tipo .sol\")\n",
    "    file_path = input()\n",
    "    \n",
    "# Leggo il file contenente lo smart contract\n",
    "with open(file_path, \"r\") as file:\n",
    "    text_file = file.read()"
   ]
  },
  {
   "cell_type": "code",
   "execution_count": 7,
   "metadata": {
    "ExecuteTime": {
     "start_time": "2023-05-04T10:41:34.894995Z",
     "end_time": "2023-05-04T10:41:34.929106Z"
    }
   },
   "outputs": [
    {
     "name": "stdout",
     "output_type": "stream",
     "text": [
      "mySimpleStorage.sol\n"
     ]
    }
   ],
   "source": [
    "# codice per ottenere solo con il nome del file\n",
    "import ntpath\n",
    "file_name = ntpath.basename(file_path)\n",
    "print(file_name)"
   ]
  },
  {
   "cell_type": "code",
   "execution_count": 8,
   "metadata": {
    "ExecuteTime": {
     "start_time": "2023-05-04T10:41:39.236015Z",
     "end_time": "2023-05-04T10:41:39.262185Z"
    }
   },
   "outputs": [
    {
     "name": "stdout",
     "output_type": "stream",
     "text": [
      "pragma solidity >=0.4.16;\n"
     ]
    }
   ],
   "source": [
    "# codice per leggere la versione di solidity\n",
    "import re\n",
    "\n",
    "# espressione regolare utilizzata per trovare dentro allo smart contract la versione di solidity richiesta\n",
    "regular_expression = \"pragma solidity .*;\"\n",
    "# ricerca della stringa pragma dentro lo mart contract tramite espressione regolare\n",
    "match = re.search(regular_expression, text_file)\n",
    "# rimozione dei caratteri\n",
    "text_version = match.group()\n",
    "\n",
    "print(text_version)"
   ]
  },
  {
   "cell_type": "code",
   "execution_count": 9,
   "metadata": {
    "ExecuteTime": {
     "start_time": "2023-05-04T10:41:41.194590Z",
     "end_time": "2023-05-04T10:41:41.242632Z"
    }
   },
   "outputs": [
    {
     "name": "stdout",
     "output_type": "stream",
     "text": [
      "\n"
     ]
    }
   ],
   "source": [
    "# codice per leggere gli import\n",
    "import re\n",
    "\n",
    "# espressione regolare utilizzata per trovare dentro allo smart contract la versione di solidity richiesta\n",
    "regular_expression = \"import .*;\"\n",
    "# ricerca della stringa pragma dentro lo mart contract tramite espressione regolare\n",
    "match = re.findall(regular_expression, text_file)\n",
    "# caratteri da rimuovere per rimanere con la stringa composta solo dalla versione di solidity\n",
    "chars_to_rempove = [';', '\"']\n",
    "# rimozione dei caratteri\n",
    "imports = ''\n",
    "for index, item in enumerate(match):\n",
    "    import_text = item.split()[1]\n",
    "    import_text = import_text.translate(str.maketrans('','',''.join(chars_to_rempove)))\n",
    "    if index == 0:\n",
    "        imports = imports + import_text\n",
    "    else:\n",
    "        imports = imports + ', ' + import_text\n",
    "\n",
    "\n",
    "print(imports)"
   ]
  },
  {
   "cell_type": "code",
   "execution_count": 15,
   "metadata": {
    "ExecuteTime": {
     "start_time": "2023-05-04T10:46:20.589668Z",
     "end_time": "2023-05-04T10:46:21.152306Z"
    }
   },
   "outputs": [],
   "source": [
    "import json\n",
    "import solcx\n",
    "try:\n",
    "    res = text_version.translate(str.maketrans('', '', 'pragma solidity><=^;'))\n",
    "    # Installo la versione del compilatore richiesta dallo smart contract\n",
    "    solcx.install_solc(res)\n",
    "    solcx.set_solc_version(res)\n",
    "\n",
    "    #compilo il file\n",
    "    compiled_solidity = solcx.compile_files([file_path], allow_paths=imports)\n",
    "\n",
    "    # estraggo i bytecode degli smart contract compilati\n",
    "    bytecodes = []\n",
    "    for key in compiled_solidity.keys():\n",
    "        bytecodes.append(compiled_solidity[key]['bin'])\n",
    "\n",
    "    # estraggo le abi degli smart contract\n",
    "    abis = []\n",
    "    for key in compiled_solidity.keys():\n",
    "        abis.append(json.loads(json.dumps(compiled_solidity[key]))['abi'])\n",
    "\n",
    "except Exception as exception: \n",
    "    os.system('clear')\n",
    "    #print(exception)\n",
    "    #viene preso l'output restituito da solc e stampata sulla console solo l'informazione di interesse. \n",
    "    jsonError = json.loads(json.dumps(exception.__dict__))\n",
    "    #items = jsonError[\"error_dict\"][0]\n",
    "    print(exception)\n",
    "    print(\"Attenzione! E' stato generato il seguente errore durante la compilazione: \\n\" + jsonError[\"stderr_data\"]\n",
    "          + \"In \"+ \"\\\"\" +jsonError[\"command\"][1]+ \"\\\"\"+\n",
    "          \", con return code: \" + str(jsonError[\"return_code\"])+ \".\")\n",
    "    # return\n"
   ]
  },
  {
   "cell_type": "code",
   "execution_count": 4,
   "metadata": {},
   "outputs": [
    {
     "ename": "NameError",
     "evalue": "name 'bytecodes' is not defined",
     "output_type": "error",
     "traceback": [
      "\u001B[0;31m---------------------------------------------------------------------------\u001B[0m",
      "\u001B[0;31mNameError\u001B[0m                                 Traceback (most recent call last)",
      "Cell \u001B[0;32mIn[4], line 4\u001B[0m\n\u001B[1;32m      1\u001B[0m \u001B[38;5;28;01mimport\u001B[39;00m \u001B[38;5;21;01mjson\u001B[39;00m\n\u001B[1;32m      2\u001B[0m \u001B[38;5;66;03m# Se gli smart contract presenti nel file .sol sono più di uno bisgona chiedere all'utente quali lui voglia deployare\u001B[39;00m\n\u001B[0;32m----> 4\u001B[0m \u001B[38;5;28;01mif\u001B[39;00m \u001B[38;5;28mlen\u001B[39m(\u001B[43mbytecodes\u001B[49m) \u001B[38;5;241m>\u001B[39m \u001B[38;5;241m1\u001B[39m:\n\u001B[1;32m      5\u001B[0m     os\u001B[38;5;241m.\u001B[39msystem(\u001B[38;5;124m'\u001B[39m\u001B[38;5;124mclear\u001B[39m\u001B[38;5;124m'\u001B[39m)\n\u001B[1;32m      6\u001B[0m     \u001B[38;5;28mprint\u001B[39m(\u001B[38;5;124m\"\u001B[39m\u001B[38;5;124mNel file sol appena compilato sono presenti più di uno smart contract. \u001B[39m\u001B[38;5;130;01m\\n\u001B[39;00m\u001B[38;5;124m\"\u001B[39m\n\u001B[1;32m      7\u001B[0m           \u001B[38;5;241m+\u001B[39m \u001B[38;5;124m\"\u001B[39m\u001B[38;5;124mGli smart contract compilati sono: \u001B[39m\u001B[38;5;124m\"\u001B[39m\n\u001B[1;32m      8\u001B[0m     )\n",
      "\u001B[0;31mNameError\u001B[0m: name 'bytecodes' is not defined"
     ]
    }
   ],
   "source": [
    "import json\n",
    "# Se gli smart contract presenti nel file .sol sono più di uno bisgona chiedere all'utente quali lui voglia deployare\n",
    "\n",
    "if len(bytecodes) > 1:\n",
    "    os.system('clear')\n",
    "    print(\"Nel file sol appena compilato sono presenti più di uno smart contract. \\n\"\n",
    "          + \"Gli smart contract compilati sono: \"\n",
    "    )\n",
    "\n",
    "    # inizializzo il vettore delle possibili selezioni\n",
    "    possibili_selezioni = []\n",
    "\n",
    "    # Stampo i nomi degli smart contract compilati con accanto un indice per la selezione\n",
    "    # Lo stesso indice viene inserito nell'array delle possibili selezioni se si riferisce ad uno smart contract che\n",
    "    # non sia un abstract contract o un interfaccia\n",
    "    # Questo controllo viene effettuato verificando che nel vettore dei bytecodes compilati, la posizione corrispondente all'indice selezionato\n",
    "    # sia diversa dalla stringa vuota (''), infatti quando si compilano interfacce o contratti astratti, come loro bytecodes viene restituita\n",
    "    # la stringa vuota\n",
    "    for index, key in enumerate(compiled_solidity.keys()):\n",
    "        if bytecodes[index] != '':\n",
    "            print(str(index) + ') ' + str(key).split(':')[1])\n",
    "            possibili_selezioni.append(str(index))\n",
    "        else:\n",
    "            print(str(index) + ') ' + str(key).split(':')[1] + ' [non è possibile effettuarne il deploy]')\n",
    "    print(\"NB: Delle interfacce e gli abstract contract non può essere effettuato il deploy.\")\n",
    "    print(\"Di quale smart contract vuoi fare il deploy? [inserire il numero di fianco al nome dello smart contract]\")\n",
    "\n",
    "    selezione =input()\n",
    "\n",
    "    # controllo che l'utente abbia selezionato un indice possibile\n",
    "    while str(selezione) not in possibili_selezioni:\n",
    "        print(\"Inserisci un indice tra quelli degli smart contract di cui è possibile fare il deploy\")\n",
    "        selezione = input()\n",
    "    \n",
    "    indice_selezionato = int(selezione)\n",
    "    abi_to_deploy = abis[indice_selezionato]\n",
    "    bytecode_to_deploy = bytecodes[indice_selezionato]\n",
    "\n",
    "else:\n",
    "    if bytecodes[0] == '':\n",
    "        os.system('clear')\n",
    "        print(\"Lo smart contract presente nel file .sol è una interfeccia o un contratto astratto, \\n\"\n",
    "              + \"non è quindi possibile effettuarno il deploy\"\n",
    "        )\n",
    "        # return\n",
    "    else:\n",
    "        abi_to_deploy = abis[0]\n",
    "        bytecode_to_deploy = bytecodes[0]\n",
    "\n",
    "# controllino in più che lo smart contract selezionato sia effettivamente deployabiles\n",
    "if bytecode_to_deploy == '':\n",
    "    print('Errore, dello smart contract da te selezionato non può essere fatto il deploy')\n",
    "    # return"
   ]
  },
  {
   "cell_type": "code",
   "execution_count": 12,
   "metadata": {},
   "outputs": [
    {
     "name": "stdout",
     "output_type": "stream",
     "text": [
      "1\n"
     ]
    }
   ],
   "source": [
    "try:\n",
    "     # richiesta all'on-chain-manager su quale shard deployare lo smart contract\n",
    "     shard_where_deploy = on_chain_manager.functions.get_shard_where_deploy().call()\n",
    "     print(shard_where_deploy)\n",
    "except Exception as exception:\n",
    "     os.system('clear')\n",
    "     print(\"Errore: \")\n",
    "     print(exception)\n",
    "     print(\"La richiesta, allo smart contract on-chain manager, riguardo la shard su cui fare il deploy dello smart contract non è andata a buon fine\")\n",
    "     # return"
   ]
  },
  {
   "cell_type": "code",
   "execution_count": 13,
   "metadata": {},
   "outputs": [],
   "source": [
    "# controllo aggiuntivo che non fa mai male\n",
    "if shard_where_deploy<1 or shard_where_deploy>3:\n",
    "     print(\n",
    "          \"Errore: \\n\"\n",
    "          + \"La shard su cui effettuare il deploy dello smart contract deve essere compresa tra 1 e 3\"\n",
    "     )\n",
    "\n",
    "# switch in base alla shard sulla quale effettuare il deploy\n",
    "if shard_where_deploy == 1:\n",
    "     blockchain_where_deploy = s1\n",
    "elif shard_where_deploy == 2:\n",
    "     blockchain_where_deploy = s2\n",
    "elif shard_where_deploy == 3:\n",
    "     blockchain_where_deploy = s3"
   ]
  },
  {
   "cell_type": "code",
   "execution_count": 14,
   "metadata": {},
   "outputs": [
    {
     "name": "stdout",
     "output_type": "stream",
     "text": [
      "Bilancio wallet utente sulla shard sulla quale fare il deploy: \n",
      "3.3333328241813606e+20 Gwei\n",
      "Bilancio wallet utente sulla blockchain dell'on-chain manager: \n",
      "3.333328218011442e+20 Gwei\n"
     ]
    }
   ],
   "source": [
    "# stima del gas necessario per fare il deploy dello smart contract e per aggiornare l'on-chain manager\n",
    "contratto = blockchain_where_deploy.eth.contract(abi=abi_to_deploy, bytecode=bytecode_to_deploy)\n",
    "\n",
    "# gas price fisso impostato da noi (Gwei)\n",
    "gas_price_shard = 20\n",
    "gas_price_onchain = 20\n",
    "\n",
    "# stima vera e propria del gas necessario per le due transazioni\n",
    "stima_gas_deploy = contratto.constructor().estimate_gas()\n",
    "stima_gas_aggiornamento_on_chain = on_chain_manager.functions.register_contract('0x0000000000000000000000000000000000000000', shard_where_deploy).estimate_gas()\n",
    "\n",
    "# stima dei costi delle due transazioni, in Gwei, tenendo conto del presso fisso definito sopra\n",
    "stima_costo_deploy = stima_gas_deploy * gas_price_shard\n",
    "stima_costo_aggiornamento_onchain = stima_gas_aggiornamento_on_chain * gas_price_onchain\n",
    "\n",
    "# MODIFICARE METTENDO COME ACCOUNT GLI INDIRIZZI DELL'UTENTE SULLE VARIE BLOCKCHAIN\n",
    "bilancio_onchain_gwei = onchain.eth.get_balance(onchain.eth.accounts[0])/(10^9)\n",
    "bilancio_shard_gwei = blockchain_where_deploy.eth.get_balance(blockchain_where_deploy.eth.accounts[0])/(10^9)\n",
    "\n",
    "print(\"Bilancio wallet utente sulla shard sulla quale fare il deploy: \\n\" + str(bilancio_shard_gwei)+' Gwei')\n",
    "print(\"Bilancio wallet utente sulla blockchain dell'on-chain manager: \\n\" +str(bilancio_onchain_gwei)+' Gwei')\n",
    "\n",
    "\n",
    "\n",
    "if (stima_costo_deploy > bilancio_shard_gwei) or (stima_costo_aggiornamento_onchain > bilancio_onchain_gwei):\n",
    "    os.system('clear')\n",
    "\n",
    "    if (stima_costo_deploy > bilancio_shard_gwei):\n",
    "        print(\n",
    "            \"Attenzione: \\n\"\n",
    "            + \"Il gas a tua disposizione potrebbe non essere sufficiente a completare il deploy dello smart contract sulla shard interessata!\"\n",
    "        )\n",
    "    if (stima_costo_aggiornamento_onchain > bilancio_onchain_gwei):\n",
    "        print(\n",
    "            \"Attenzione: \\n\"\n",
    "            + \"Il gas a tua disposizione potrebbe non essere sufficiente a completare l'aggiornamento dell'on-chain manager!\"\n",
    "        )\n",
    "    \n",
    "    print(\n",
    "        \"Se vuoi, puoi comunque procedere e tentare di effettuare il deploy dello smart contract. \\n\"\n",
    "        + \"Tuttavia se anche solo una delle due transazioni non dovessero andare a buon fine perderai il gas investito. \\n\"\n",
    "        + \"Vuoi procedere? [s/n]\"\n",
    "    )\n",
    "    selezione = ''\n",
    "    selezione = input()\n",
    "    while (selezione != 's' or selezione != 'n'):\n",
    "        print(\"Inserire solo s oopure n!\")\n",
    "        selezione = input()\n",
    "\n",
    "    # Decommentare il return e cancellare il pass quando verrà messo in una funzione python vera e propria\n",
    "    if selezione == 'n':\n",
    "        pass\n",
    "        # return"
   ]
  },
  {
   "cell_type": "code",
   "execution_count": 15,
   "metadata": {},
   "outputs": [
    {
     "name": "stdout",
     "output_type": "stream",
     "text": [
      "0x6C27177Fbf7BF221864267CD815Ad1033591df0d\n"
     ]
    }
   ],
   "source": [
    "# esecuzione della transazione di deploy dello smart contract\n",
    "try:\n",
    "     tx_hash = contratto.constructor().transact()\n",
    "     tx_receipt = blockchain_where_deploy.eth.wait_for_transaction_receipt(tx_hash)\n",
    "except Exception as exception:\n",
    "     os.system('clear')\n",
    "     print(\"Errore: \\n\")\n",
    "     print(exception)\n",
    "     print(\"La transazione di deploy dello smart contract non è andata a buon fine\")\n",
    "\n",
    "\n",
    "# creazione dell'oggetto contratto per interagirci\n",
    "contratto_deployato = blockchain_where_deploy.eth.contract(\n",
    "     address=tx_receipt.contractAddress,\n",
    "     abi=abi\n",
    ")\n",
    "\n",
    "# stampa dell'indirizzo del contratto appena deployato\n",
    "print(contratto_deployato.address)"
   ]
  },
  {
   "cell_type": "code",
   "execution_count": 16,
   "metadata": {},
   "outputs": [
    {
     "name": "stdout",
     "output_type": "stream",
     "text": [
      "2\n"
     ]
    }
   ],
   "source": [
    "# Registro che il contratto è stato deployato sull'onchain manager\n",
    "try:\n",
    "    on_chain_manager.functions.register_contract(contratto_deployato.address, shard_where_deploy).transact()\n",
    "except Exception as exception:\n",
    "     os.system('clear')\n",
    "     print(\"Errore: \\n\")\n",
    "     print(exception)\n",
    "     print(\"La transazione di aggiornamento dell'on-chain manager non è andata a buon fine\")\n",
    "\n",
    "# Test per vedere se il prossimo smart contract viene detto di deployarlo sulla shard dopo\n",
    "print(on_chain_manager.functions.get_shard_where_deploy().call())"
   ]
  },
  {
   "cell_type": "code",
   "execution_count": 19,
   "metadata": {},
   "outputs": [],
   "source": [
    "save_sc_datas(contratto_deployato.address, abi_to_deploy, shard_where_deploy)"
   ]
  }
 ],
 "metadata": {
  "kernelspec": {
   "display_name": "Python 3",
   "language": "python",
   "name": "python3"
  },
  "language_info": {
   "codemirror_mode": {
    "name": "ipython",
    "version": 3
   },
   "file_extension": ".py",
   "mimetype": "text/x-python",
   "name": "python",
   "nbconvert_exporter": "python",
   "pygments_lexer": "ipython3",
   "version": "3.9.2"
  },
  "orig_nbformat": 4,
  "vscode": {
   "interpreter": {
    "hash": "63fb6cc0b3f43298d3ee48ce7e53bbc316111a16ca348ddfd373274aaf1f5265"
   }
  }
 },
 "nbformat": 4,
 "nbformat_minor": 2
}
