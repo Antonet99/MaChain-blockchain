{
 "cells": [
  {
   "cell_type": "code",
   "execution_count": 3,
   "metadata": {},
   "outputs": [
    {
     "data": {
      "text/plain": [
       "(True, True, True, True)"
      ]
     },
     "execution_count": 3,
     "metadata": {},
     "output_type": "execute_result"
    }
   ],
   "source": [
    "from web3 import Web3\n",
    "from solcx import install_solc, compile_standard\n",
    "import solcx\n",
    "import json\n",
    "import os\n",
    "\n",
    "install_solc(version='0.8.0')\n",
    "\n",
    "onchain = Web3(Web3.HTTPProvider('http://localhost:8545')) #on-chain\n",
    "\n",
    "s1 = Web3(Web3.HTTPProvider('http://localhost:8546')) #shard 1\n",
    "s2 = Web3(Web3.HTTPProvider('http://localhost:8547')) #shard 2\n",
    "s3 = Web3(Web3.HTTPProvider('http://localhost:8548')) #shard 3\n",
    "\n",
    "onchain.isConnected(), s1.isConnected(), s2.isConnected(), s3.isConnected()"
   ]
  },
  {
   "cell_type": "code",
   "execution_count": 4,
   "metadata": {},
   "outputs": [],
   "source": [
    "# DEPLOY DELL'ON CHAIN MANAGER\n",
    "\n",
    "path_on_chain = \"prova_on_chain.sol\"\n",
    "# Leggo il file contenente lo smart contract\n",
    "with open(path_on_chain, \"r\") as file:\n",
    "    text_file = file.read()\n",
    "\n",
    "solcx.install_solc('0.8.0')\n",
    "\n",
    "# Compilo il file contenente lo smart contract\n",
    "compiled_sol = compile_standard(\n",
    "        {\n",
    "            \"language\": \"Solidity\",\n",
    "            \"sources\": {\"prova_on_chain.sol\": {\"content\": text_file}},\n",
    "            \"settings\": {\n",
    "                \"outputSelection\": {\n",
    "                    \"*\": {\n",
    "                        \"*\": [\"abi\", \"metadata\", \"evm.bytecode\", \"evm.bytecode.sourceMap\"] # output needed to interact with and deploy contract \n",
    "                    }\n",
    "                }\n",
    "            },\n",
    "        },\n",
    "        solc_version='0.8.0',\n",
    "    )\n",
    "\n",
    "# get bytecodes\n",
    "bytecode = compiled_sol[\"contracts\"][\"prova_on_chain.sol\"][\"on_chain_manager\"][\"evm\"][\"bytecode\"][\"object\"]\n",
    "\n",
    "# get abi\n",
    "abi = json.loads(compiled_sol[\"contracts\"][\"prova_on_chain.sol\"][\"on_chain_manager\"][\"metadata\"])[\"output\"][\"abi\"]\n",
    "\n",
    "# seleziono l'account di default\n",
    "# DA MODIFICARE METTENDO GLI ACCOUNT INSERITI DALL'UTENTE\n",
    "onchain.eth.default_account = onchain.eth.accounts[0]\n",
    "s1.eth.default_account = s1.eth.accounts[0]\n",
    "s2.eth.default_account = s2.eth.accounts[0]\n",
    "s3.eth.default_account = s3.eth.accounts[0]\n",
    "\n",
    "# deploy dello smart contract dell'onchain manager\n",
    "On_Chain_Manager = onchain.eth.contract(abi=abi, bytecode=bytecode)\n",
    "tx_hash = On_Chain_Manager.constructor().transact()\n",
    "tx_receipt = onchain.eth.wait_for_transaction_receipt(tx_hash)\n",
    "\n",
    "# creazione dell'oggetto contract per lo smart contract dell'onchain manager in modo da poterci interagire\n",
    "on_chain_manager = onchain.eth.contract(\n",
    "     address=tx_receipt.contractAddress,\n",
    "     abi=abi\n",
    ")"
   ]
  },
  {
   "cell_type": "code",
   "execution_count": 7,
   "metadata": {},
   "outputs": [
    {
     "name": "stdout",
     "output_type": "stream",
     "text": [
      "Inserisci la path del file solidity dello smart contract di cui fare il deploy\n"
     ]
    }
   ],
   "source": [
    "# codice per far inserire all'utente il path dello smart contract da deployare\n",
    "\n",
    "print(\"Inserisci la path del file solidity dello smart contract di cui fare il deploy\")\n",
    "file_path = input()\n",
    "\n",
    "# controllo che il file esista effettivamente e che sia di tipo .sol\n",
    "while not os.path.exists(file_path) and os.path.splitext(file_path)[1] != \".sol\":\n",
    "    os.system('clear')\n",
    "    print(\"La path deve esistere e il file deve essere di tipo .sol\")\n",
    "    file_path = input()\n",
    "    \n",
    "# Leggo il file contenente lo smart contract\n",
    "with open(file_path, \"r\") as file:\n",
    "    text_file = file.read()"
   ]
  },
  {
   "cell_type": "code",
   "execution_count": 8,
   "metadata": {},
   "outputs": [
    {
     "name": "stdout",
     "output_type": "stream",
     "text": [
      "prova_on_chain.sol\n"
     ]
    }
   ],
   "source": [
    "# codice per ottenere solo con il nome del file\n",
    "import ntpath\n",
    "file_name = ntpath.basename(file_path)\n",
    "print(file_name)"
   ]
  },
  {
   "cell_type": "code",
   "execution_count": 9,
   "metadata": {},
   "outputs": [
    {
     "name": "stdout",
     "output_type": "stream",
     "text": [
      "0.4.0\n"
     ]
    }
   ],
   "source": [
    "# codice per leggere la versione di solidity\n",
    "import re\n",
    "\n",
    "# espressione regolare utilizzata per trovare dentro allo smart contract la versione di solidity richiesta\n",
    "regular_expression = \"pragma solidity .*;\"\n",
    "# ricerca della stringa pragma dentro lo mart contract tramite espressione regolare\n",
    "match = re.search(regular_expression, text_file)\n",
    "# caratteri da rimuovere per rimanere con la stringa composta solo dalla versione di solidity\n",
    "chars_to_rempove = ['>', '^', '=', ';']\n",
    "# rimozione dei caratteri\n",
    "text_version = match.group().split()[2].translate(str.maketrans('','',''.join(chars_to_rempove)))\n",
    "\n",
    "print(text_version)\n"
   ]
  },
  {
   "cell_type": "code",
   "execution_count": 10,
   "metadata": {},
   "outputs": [
    {
     "name": "stdout",
     "output_type": "stream",
     "text": [
      "[]\n"
     ]
    }
   ],
   "source": [
    "# codice per leggere gli import\n",
    "import re\n",
    "\n",
    "# espressione regolare utilizzata per trovare dentro allo smart contract la versione di solidity richiesta\n",
    "regular_expression = \"import .*;\"\n",
    "# ricerca della stringa pragma dentro lo mart contract tramite espressione regolare\n",
    "match = re.findall(regular_expression, text_file)\n",
    "# caratteri da rimuovere per rimanere con la stringa composta solo dalla versione di solidity\n",
    "chars_to_rempove = [';', '\"']\n",
    "# rimozione dei caratteri\n",
    "imports = []\n",
    "for item in match:\n",
    "    import_text = item.split()[1]\n",
    "    import_text = import_text.translate(str.maketrans('','',''.join(chars_to_rempove)))\n",
    "    imports.append(import_text)\n",
    "\n",
    "print(imports)"
   ]
  },
  {
   "cell_type": "code",
   "execution_count": 11,
   "metadata": {},
   "outputs": [
    {
     "ename": "KeyError",
     "evalue": "'stderr_data'",
     "output_type": "error",
     "traceback": [
      "\u001b[1;31m---------------------------------------------------------------------------\u001b[0m",
      "\u001b[1;31mUnsupportedVersionError\u001b[0m                   Traceback (most recent call last)",
      "Cell \u001b[1;32mIn[11], line 5\u001b[0m\n\u001b[0;32m      3\u001b[0m \u001b[39mtry\u001b[39;00m:\n\u001b[0;32m      4\u001b[0m     \u001b[39m# Installo la versione del compilatore richiesta dallo smart contract\u001b[39;00m\n\u001b[1;32m----> 5\u001b[0m     solcx\u001b[39m.\u001b[39;49minstall_solc(text_version)\n\u001b[0;32m      7\u001b[0m     \u001b[39m#compilo il file\u001b[39;00m\n",
      "File \u001b[1;32m~\\AppData\\Local\\Packages\\PythonSoftwareFoundation.Python.3.9_qbz5n2kfra8p0\\LocalCache\\local-packages\\Python39\\site-packages\\solcx\\install.py:430\u001b[0m, in \u001b[0;36minstall_solc\u001b[1;34m(version, show_progress, solcx_binary_path)\u001b[0m\n\u001b[0;32m    429\u001b[0m \u001b[39melse\u001b[39;00m:\n\u001b[1;32m--> 430\u001b[0m     version \u001b[39m=\u001b[39m _convert_and_validate_version(version)\n\u001b[0;32m    432\u001b[0m os_name \u001b[39m=\u001b[39m _get_os_name()\n",
      "File \u001b[1;32m~\\AppData\\Local\\Packages\\PythonSoftwareFoundation.Python.3.9_qbz5n2kfra8p0\\LocalCache\\local-packages\\Python39\\site-packages\\solcx\\install.py:69\u001b[0m, in \u001b[0;36m_convert_and_validate_version\u001b[1;34m(version)\u001b[0m\n\u001b[0;32m     68\u001b[0m \u001b[39mif\u001b[39;00m version \u001b[39mnot\u001b[39;00m \u001b[39min\u001b[39;00m SimpleSpec(\u001b[39m\"\u001b[39m\u001b[39m>=0.4.11\u001b[39m\u001b[39m\"\u001b[39m):\n\u001b[1;32m---> 69\u001b[0m     \u001b[39mraise\u001b[39;00m UnsupportedVersionError(\u001b[39m\"\u001b[39m\u001b[39mpy-solc-x does not support solc versions <0.4.11\u001b[39m\u001b[39m\"\u001b[39m)\n\u001b[0;32m     70\u001b[0m \u001b[39mreturn\u001b[39;00m version\n",
      "\u001b[1;31mUnsupportedVersionError\u001b[0m: py-solc-x does not support solc versions <0.4.11",
      "\nDuring handling of the above exception, another exception occurred:\n",
      "\u001b[1;31mKeyError\u001b[0m                                  Traceback (most recent call last)",
      "Cell \u001b[1;32mIn[11], line 25\u001b[0m\n\u001b[0;32m     23\u001b[0m jsonError \u001b[39m=\u001b[39m json\u001b[39m.\u001b[39mloads(json\u001b[39m.\u001b[39mdumps(exception\u001b[39m.\u001b[39m\u001b[39m__dict__\u001b[39m))\n\u001b[0;32m     24\u001b[0m \u001b[39m#items = jsonError[\"error_dict\"][0]\u001b[39;00m\n\u001b[1;32m---> 25\u001b[0m \u001b[39mprint\u001b[39m(\u001b[39m\"\u001b[39m\u001b[39mAttenzione! E\u001b[39m\u001b[39m'\u001b[39m\u001b[39m stato generato il seguente errore: \u001b[39m\u001b[39m\\n\u001b[39;00m\u001b[39m\"\u001b[39m \u001b[39m+\u001b[39m jsonError[\u001b[39m\"\u001b[39;49m\u001b[39mstderr_data\u001b[39;49m\u001b[39m\"\u001b[39;49m] \u001b[39m+\u001b[39m \u001b[39m\"\u001b[39m\u001b[39m\\\"\u001b[39;00m\u001b[39m\"\u001b[39m\n\u001b[0;32m     26\u001b[0m       \u001b[39m+\u001b[39m \u001b[39m\"\u001b[39m\u001b[39mIn \u001b[39m\u001b[39m\"\u001b[39m\u001b[39m+\u001b[39m \u001b[39m\"\u001b[39m\u001b[39m\\\"\u001b[39;00m\u001b[39m\"\u001b[39m \u001b[39m+\u001b[39mjsonError[\u001b[39m\"\u001b[39m\u001b[39mcommand\u001b[39m\u001b[39m\"\u001b[39m][\u001b[39m1\u001b[39m]\u001b[39m+\u001b[39m \u001b[39m\"\u001b[39m\u001b[39m\\\"\u001b[39;00m\u001b[39m\"\u001b[39m\u001b[39m+\u001b[39m\n\u001b[0;32m     27\u001b[0m       \u001b[39m\"\u001b[39m\u001b[39m, con return code: \u001b[39m\u001b[39m\"\u001b[39m \u001b[39m+\u001b[39m \u001b[39mstr\u001b[39m(jsonError[\u001b[39m\"\u001b[39m\u001b[39mreturn_code\u001b[39m\u001b[39m\"\u001b[39m])\u001b[39m+\u001b[39m \u001b[39m\"\u001b[39m\u001b[39m.\u001b[39m\u001b[39m\"\u001b[39m)\n",
      "\u001b[1;31mKeyError\u001b[0m: 'stderr_data'"
     ]
    }
   ],
   "source": [
    "# AGGIUNGERE IL TRY EXCEPT PER GLI ERRORI DI COMPILAZIONE\n",
    "\n",
    "try:\n",
    "    # Installo la versione del compilatore richiesta dallo smart contract\n",
    "    solcx.install_solc(text_version)\n",
    "\n",
    "    #compilo il file\n",
    "    compiled_solidity = solcx.compile_files([file_path], solc_version=text_version)\n",
    "\n",
    "    # estraggo i bytecode degli smart contract compilati\n",
    "    bytecodes = []\n",
    "    for key in compiled_solidity.keys():\n",
    "        bytecodes.append(compiled_solidity[key]['bin'])\n",
    "\n",
    "    # estraggo le abi degli smart contract\n",
    "    abis = []\n",
    "    for key in compiled_solidity.keys():\n",
    "        abis.append(json.loads(json.dumps(compiled_solidity[key]))['abi'])\n",
    "\n",
    "except Exception as exception: \n",
    "    os.system('clear')\n",
    "    #viene preso l'output restituito da solc e stampata sulla console solo l'informazione di interesse. \n",
    "    jsonError = json.loads(json.dumps(exception.__dict__))\n",
    "    #items = jsonError[\"error_dict\"][0]\n",
    "    print(\"Attenzione! E' stato generato il seguente errore: \\n\" + jsonError[\"stderr_data\"] + \"\\\"\"\n",
    "          + \"In \"+ \"\\\"\" +jsonError[\"command\"][1]+ \"\\\"\"+\n",
    "          \", con return code: \" + str(jsonError[\"return_code\"])+ \".\")\n"
   ]
  },
  {
   "cell_type": "code",
   "execution_count": 12,
   "metadata": {},
   "outputs": [
    {
     "ename": "UnsupportedVersionError",
     "evalue": "py-solc-x does not support solc versions <0.4.11",
     "output_type": "error",
     "traceback": [
      "\u001b[1;31m---------------------------------------------------------------------------\u001b[0m",
      "\u001b[1;31mUnsupportedVersionError\u001b[0m                   Traceback (most recent call last)",
      "Cell \u001b[1;32mIn[12], line 3\u001b[0m\n\u001b[0;32m      1\u001b[0m \u001b[39m#QUESTO BLOCCO NON SERVE SE VIENE ESEGUITO QUELLO SOPRA\u001b[39;00m\n\u001b[0;32m      2\u001b[0m \u001b[39m#try:\u001b[39;00m\n\u001b[1;32m----> 3\u001b[0m solcx\u001b[39m.\u001b[39;49minstall_solc(text_version)\n\u001b[0;32m      4\u001b[0m     \u001b[39m# Compilo il file contenente lo smart contract\u001b[39;00m\n\u001b[0;32m      5\u001b[0m compiled_sol \u001b[39m=\u001b[39m compile_standard(\n\u001b[0;32m      6\u001b[0m         {\n\u001b[0;32m      7\u001b[0m             \u001b[39m\"\u001b[39m\u001b[39mlanguage\u001b[39m\u001b[39m\"\u001b[39m: \u001b[39m\"\u001b[39m\u001b[39mSolidity\u001b[39m\u001b[39m\"\u001b[39m,\n\u001b[1;32m   (...)\u001b[0m\n\u001b[0;32m     18\u001b[0m         allow_paths\u001b[39m=\u001b[39mimports\n\u001b[0;32m     19\u001b[0m     )\n",
      "File \u001b[1;32m~\\AppData\\Local\\Packages\\PythonSoftwareFoundation.Python.3.9_qbz5n2kfra8p0\\LocalCache\\local-packages\\Python39\\site-packages\\solcx\\install.py:430\u001b[0m, in \u001b[0;36minstall_solc\u001b[1;34m(version, show_progress, solcx_binary_path)\u001b[0m\n\u001b[0;32m    428\u001b[0m     version \u001b[39m=\u001b[39m get_installable_solc_versions()[\u001b[39m0\u001b[39m]\n\u001b[0;32m    429\u001b[0m \u001b[39melse\u001b[39;00m:\n\u001b[1;32m--> 430\u001b[0m     version \u001b[39m=\u001b[39m _convert_and_validate_version(version)\n\u001b[0;32m    432\u001b[0m os_name \u001b[39m=\u001b[39m _get_os_name()\n\u001b[0;32m    433\u001b[0m process_lock \u001b[39m=\u001b[39m get_process_lock(\u001b[39mstr\u001b[39m(version))\n",
      "File \u001b[1;32m~\\AppData\\Local\\Packages\\PythonSoftwareFoundation.Python.3.9_qbz5n2kfra8p0\\LocalCache\\local-packages\\Python39\\site-packages\\solcx\\install.py:69\u001b[0m, in \u001b[0;36m_convert_and_validate_version\u001b[1;34m(version)\u001b[0m\n\u001b[0;32m     67\u001b[0m     version \u001b[39m=\u001b[39m Version(version\u001b[39m.\u001b[39mlstrip(\u001b[39m\"\u001b[39m\u001b[39mv\u001b[39m\u001b[39m\"\u001b[39m))\n\u001b[0;32m     68\u001b[0m \u001b[39mif\u001b[39;00m version \u001b[39mnot\u001b[39;00m \u001b[39min\u001b[39;00m SimpleSpec(\u001b[39m\"\u001b[39m\u001b[39m>=0.4.11\u001b[39m\u001b[39m\"\u001b[39m):\n\u001b[1;32m---> 69\u001b[0m     \u001b[39mraise\u001b[39;00m UnsupportedVersionError(\u001b[39m\"\u001b[39m\u001b[39mpy-solc-x does not support solc versions <0.4.11\u001b[39m\u001b[39m\"\u001b[39m)\n\u001b[0;32m     70\u001b[0m \u001b[39mreturn\u001b[39;00m version\n",
      "\u001b[1;31mUnsupportedVersionError\u001b[0m: py-solc-x does not support solc versions <0.4.11"
     ]
    }
   ],
   "source": [
    "#QUESTO BLOCCO NON SERVE SE VIENE ESEGUITO QUELLO SOPRA\n",
    "#try:\n",
    "solcx.install_solc(text_version)\n",
    "    # Compilo il file contenente lo smart contract\n",
    "compiled_sol = compile_standard(\n",
    "        {\n",
    "            \"language\": \"Solidity\",\n",
    "            \"sources\": {file_name: {\"content\": text_file}},\n",
    "            \"settings\": {\n",
    "                \"outputSelection\": {\n",
    "                    \"*\": {\n",
    "                        \"*\": [\"abi\", \"metadata\", \"evm.bytecode\", \"evm.bytecode.sourceMap\"] # output needed to interact with and deploy contract \n",
    "                    }\n",
    "                }\n",
    "            },\n",
    "        },\n",
    "        solc_version=text_version,\n",
    "        allow_paths=imports\n",
    "    )\n",
    "\n",
    "    # get bytecodes\n",
    "bytecodes = []\n",
    "for item in compiled_sol[\"contracts\"][file_name].keys():\n",
    "    bytecodes.append(compiled_sol[\"contracts\"][file_name][item][\"evm\"][\"bytecode\"][\"object\"])   \n",
    "\n",
    "\n",
    "abis = []\n",
    "for item in compiled_sol[\"contracts\"][file_name].keys(): \n",
    "    abis.append(json.loads(compiled_sol[\"contracts\"][file_name][item][\"metadata\"])[\"output\"][\"abi\"])\n",
    "\n",
    "print(abis)\n",
    "#except:\n",
    "#    os.system('clear')\n",
    "#    print(\"La compilazione dello smart contract non è andata a buon fine\")"
   ]
  },
  {
   "cell_type": "code",
   "execution_count": 13,
   "metadata": {},
   "outputs": [
    {
     "name": "stdout",
     "output_type": "stream",
     "text": [
      "1\n"
     ]
    },
    {
     "ename": "NameError",
     "evalue": "name 'abis' is not defined",
     "output_type": "error",
     "traceback": [
      "\u001b[1;31m---------------------------------------------------------------------------\u001b[0m",
      "\u001b[1;31mNameError\u001b[0m                                 Traceback (most recent call last)",
      "Cell \u001b[1;32mIn[13], line 14\u001b[0m\n\u001b[0;32m     10\u001b[0m      blockchain_where_deploy \u001b[39m=\u001b[39m s3\n\u001b[0;32m     13\u001b[0m \u001b[39m# esecuzione della transazione di deploy dello smart contract\u001b[39;00m\n\u001b[1;32m---> 14\u001b[0m contratto \u001b[39m=\u001b[39m blockchain_where_deploy\u001b[39m.\u001b[39meth\u001b[39m.\u001b[39mcontract(abi\u001b[39m=\u001b[39mabis[\u001b[39m0\u001b[39m], bytecode\u001b[39m=\u001b[39mbytecodes[\u001b[39m0\u001b[39m])\n\u001b[0;32m     15\u001b[0m tx_hash \u001b[39m=\u001b[39m contratto\u001b[39m.\u001b[39mconstructor()\u001b[39m.\u001b[39mtransact()\n\u001b[0;32m     16\u001b[0m tx_receipt \u001b[39m=\u001b[39m blockchain_where_deploy\u001b[39m.\u001b[39meth\u001b[39m.\u001b[39mwait_for_transaction_receipt(tx_hash)\n",
      "\u001b[1;31mNameError\u001b[0m: name 'abis' is not defined"
     ]
    }
   ],
   "source": [
    "# richiesta all'on-chain-manager su quale shard deployare lo smart contract\n",
    "shard_where_deploy = on_chain_manager.functions.get_shard_where_deploy().call()\n",
    "print(shard_where_deploy)\n",
    "\n",
    "if shard_where_deploy == 1:\n",
    "     blockchain_where_deploy = s1\n",
    "elif shard_where_deploy == 2:\n",
    "     blockchain_where_deploy = s2\n",
    "elif shard_where_deploy == 3:\n",
    "     blockchain_where_deploy = s3\n",
    "\n",
    "\n",
    "# esecuzione della transazione di deploy dello smart contract\n",
    "contratto = blockchain_where_deploy.eth.contract(abi=abis[0], bytecode=bytecodes[0])\n",
    "tx_hash = contratto.constructor().transact()\n",
    "tx_receipt = blockchain_where_deploy.eth.wait_for_transaction_receipt(tx_hash)\n",
    "\n",
    "# creazione dell'oggetto contratto per interagirci\n",
    "contratto_deployato = blockchain_where_deploy.eth.contract(\n",
    "     address=tx_receipt.contractAddress,\n",
    "     abi=abi\n",
    ")\n",
    "\n",
    "print(contratto_deployato.address)\n"
   ]
  },
  {
   "cell_type": "code",
   "execution_count": 52,
   "metadata": {},
   "outputs": [],
   "source": [
    "\n",
    "import os\n",
    "import json\n",
    "\n",
    "#occhio: se modifichiamo i path, tenere d'occhio la variabile file_path\n",
    "def save_sc_datas(address, abi , shard_where_deploy):\n",
    "    result = {address : abi}\n",
    "    if shard_where_deploy == 1 :\n",
    "        file_path = \"../ABIs/onchain.json\"\n",
    "    else:\n",
    "        file_path = \"../ABIs/shard\"+str(shard_where_deploy)+\".json\"\n",
    "        if os.path.exists(file_path):\n",
    "            with open(file_path) as json_file:\n",
    "                data = json.load(json_file)\n",
    "                result = data | result\n",
    "    f = open(file_path, 'w+')  \n",
    "    f.write(json.dumps(result))\n",
    "    f.close()"
   ]
  },
  {
   "cell_type": "code",
   "execution_count": 15,
   "metadata": {},
   "outputs": [
    {
     "ename": "NameError",
     "evalue": "name 'contratto_deployato' is not defined",
     "output_type": "error",
     "traceback": [
      "\u001b[1;31m---------------------------------------------------------------------------\u001b[0m",
      "\u001b[1;31mNameError\u001b[0m                                 Traceback (most recent call last)",
      "Cell \u001b[1;32mIn[15], line 2\u001b[0m\n\u001b[0;32m      1\u001b[0m \u001b[39m# Registro che il contratto è stato deployato sull'onchain manager\u001b[39;00m\n\u001b[1;32m----> 2\u001b[0m on_chain_manager\u001b[39m.\u001b[39mfunctions\u001b[39m.\u001b[39mregister_contract(contratto_deployato\u001b[39m.\u001b[39maddress, shard_where_deploy)\u001b[39m.\u001b[39mtransact()\n\u001b[0;32m      4\u001b[0m \u001b[39m#salvo i metadati sul file corrispondente -> DECOMMENTARE IN SEGUITO\u001b[39;00m\n\u001b[0;32m      5\u001b[0m \u001b[39m#save_sc_datas(contratto_deployato.address, contratto_deployato.abi, shard_where_deploy)\u001b[39;00m\n\u001b[0;32m      7\u001b[0m save_sc_datas(\u001b[39m\"\u001b[39m\u001b[39m0x1Ba3d07B514219207A0b7836389447863b4ac0c3\u001b[39m\u001b[39m\"\u001b[39m, \u001b[39m\"\u001b[39m\u001b[39mporco dio\u001b[39m\u001b[39m\"\u001b[39m, \u001b[39m2\u001b[39m)\n",
      "\u001b[1;31mNameError\u001b[0m: name 'contratto_deployato' is not defined"
     ]
    }
   ],
   "source": [
    "# Registro che il contratto è stato deployato sull'onchain manager\n",
    "on_chain_manager.functions.register_contract(contratto_deployato.address, shard_where_deploy).transact()\n",
    "\n",
    "# Test per vedere se il prossimo smart contract viene detto di deployarlo sulla shard dopo\n",
    "print(on_chain_manager.functions.get_shard_where_deploy().call())"
   ]
  }
 ],
 "metadata": {
  "kernelspec": {
   "display_name": "Python 3",
   "language": "python",
   "name": "python3"
  },
  "language_info": {
   "codemirror_mode": {
    "name": "ipython",
    "version": 3
   },
   "file_extension": ".py",
   "mimetype": "text/x-python",
   "name": "python",
   "nbconvert_exporter": "python",
   "pygments_lexer": "ipython3",
   "version": "3.9.13"
  },
  "orig_nbformat": 4,
  "vscode": {
   "interpreter": {
    "hash": "63fb6cc0b3f43298d3ee48ce7e53bbc316111a16ca348ddfd373274aaf1f5265"
   }
  }
 },
 "nbformat": 4,
 "nbformat_minor": 2
}
