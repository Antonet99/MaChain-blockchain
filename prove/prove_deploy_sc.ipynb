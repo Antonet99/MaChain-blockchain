{
 "cells": [
  {
   "cell_type": "code",
   "execution_count": 3,
   "metadata": {},
   "outputs": [
    {
     "data": {
      "text/plain": [
       "(True, True, True, True)"
      ]
     },
     "execution_count": 3,
     "metadata": {},
     "output_type": "execute_result"
    }
   ],
   "source": [
    "from web3 import Web3\n",
    "from solcx import install_solc, compile_standard\n",
    "import solcx\n",
    "import json\n",
    "import os\n",
    "\n",
    "install_solc(version='0.8.0')\n",
    "\n",
    "onchain = Web3(Web3.HTTPProvider('http://localhost:8545')) #on-chain\n",
    "\n",
    "s1 = Web3(Web3.HTTPProvider('http://localhost:8546')) #shard 1\n",
    "s2 = Web3(Web3.HTTPProvider('http://localhost:8547')) #shard 2\n",
    "s3 = Web3(Web3.HTTPProvider('http://localhost:8548')) #shard 3\n",
    "\n",
    "onchain.isConnected(), s1.isConnected(), s2.isConnected(), s3.isConnected()"
   ]
  },
  {
   "cell_type": "code",
   "execution_count": 4,
   "metadata": {},
   "outputs": [],
   "source": [
    "# DEPLOY DELL'ON CHAIN MANAGER\n",
    "\n",
    "# SULLA VERSIONE IN PYTHON VERA E PROPRIA DA FARE ALL'AVVIO E CONTROLLARE DA FILE SE ESISTE GIà\n",
    "\n",
    "path_on_chain = \"prova_on_chain.sol\"\n",
    "# Leggo il file contenente lo smart contract\n",
    "with open(path_on_chain, \"r\") as file:\n",
    "    text_file = file.read()\n",
    "\n",
    "solcx.install_solc('0.8.0')\n",
    "\n",
    "# Compilo il file contenente lo smart contract\n",
    "compiled_sol = compile_standard(\n",
    "        {\n",
    "            \"language\": \"Solidity\",\n",
    "            \"sources\": {\"prova_on_chain.sol\": {\"content\": text_file}},\n",
    "            \"settings\": {\n",
    "                \"outputSelection\": {\n",
    "                    \"*\": {\n",
    "                        \"*\": [\"abi\", \"metadata\", \"evm.bytecode\", \"evm.bytecode.sourceMap\"] # output needed to interact with and deploy contract \n",
    "                    }\n",
    "                }\n",
    "            },\n",
    "        },\n",
    "        solc_version='0.8.0',\n",
    "    )\n",
    "\n",
    "# get bytecodes\n",
    "bytecode = compiled_sol[\"contracts\"][\"prova_on_chain.sol\"][\"on_chain_manager\"][\"evm\"][\"bytecode\"][\"object\"]\n",
    "\n",
    "# get abi\n",
    "abi = json.loads(compiled_sol[\"contracts\"][\"prova_on_chain.sol\"][\"on_chain_manager\"][\"metadata\"])[\"output\"][\"abi\"]\n",
    "\n",
    "# seleziono l'account di default\n",
    "# DA MODIFICARE METTENDO GLI ACCOUNT INSERITI DALL'UTENTE\n",
    "onchain.eth.default_account = onchain.eth.accounts[0]\n",
    "s1.eth.default_account = s1.eth.accounts[0]\n",
    "s2.eth.default_account = s2.eth.accounts[0]\n",
    "s3.eth.default_account = s3.eth.accounts[0]\n",
    "\n",
    "# deploy dello smart contract dell'onchain manager\n",
    "On_Chain_Manager = onchain.eth.contract(abi=abi, bytecode=bytecode)\n",
    "tx_hash = On_Chain_Manager.constructor().transact()\n",
    "tx_receipt = onchain.eth.wait_for_transaction_receipt(tx_hash)\n",
    "\n",
    "# creazione dell'oggetto contract per lo smart contract dell'onchain manager in modo da poterci interagire\n",
    "on_chain_manager = onchain.eth.contract(\n",
    "     address=tx_receipt.contractAddress,\n",
    "     abi=abi\n",
    ")"
   ]
  },
  {
   "cell_type": "code",
   "execution_count": 27,
   "metadata": {},
   "outputs": [
    {
     "name": "stdout",
     "output_type": "stream",
     "text": [
      "Inserisci la path del file solidity dello smart contract di cui fare il deploy\n"
     ]
    }
   ],
   "source": [
    "# codice per far inserire all'utente il path dello smart contract da deployare\n",
    "\n",
    "print(\"Inserisci la path del file solidity dello smart contract di cui fare il deploy\")\n",
    "file_path = input()\n",
    "\n",
    "# controllo che il file esista effettivamente e che sia di tipo .sol\n",
    "while not os.path.exists(file_path) and os.path.splitext(file_path)[1] != \".sol\":\n",
    "    os.system('clear')\n",
    "    print(\"La path deve esistere e il file deve essere di tipo .sol\")\n",
    "    file_path = input()\n",
    "    \n",
    "# Leggo il file contenente lo smart contract\n",
    "with open(file_path, \"r\") as file:\n",
    "    text_file = file.read()"
   ]
  },
  {
   "cell_type": "code",
   "execution_count": 28,
   "metadata": {},
   "outputs": [
    {
     "name": "stdout",
     "output_type": "stream",
     "text": [
      "SimpleStorage.sol\n"
     ]
    }
   ],
   "source": [
    "# codice per ottenere solo con il nome del file\n",
    "import ntpath\n",
    "file_name = ntpath.basename(file_path)\n",
    "print(file_name)"
   ]
  },
  {
   "cell_type": "code",
   "execution_count": 29,
   "metadata": {},
   "outputs": [
    {
     "name": "stdout",
     "output_type": "stream",
     "text": [
      "0.6.0\n"
     ]
    }
   ],
   "source": [
    "# codice per leggere la versione di solidity\n",
    "import re\n",
    "\n",
    "# espressione regolare utilizzata per trovare dentro allo smart contract la versione di solidity richiesta\n",
    "regular_expression = \"pragma solidity .*;\"\n",
    "# ricerca della stringa pragma dentro lo mart contract tramite espressione regolare\n",
    "match = re.search(regular_expression, text_file)\n",
    "# caratteri da rimuovere per rimanere con la stringa composta solo dalla versione di solidity\n",
    "chars_to_rempove = ['>', '^', '=', ';']\n",
    "# rimozione dei caratteri\n",
    "text_version = match.group().split()[2].translate(str.maketrans('','',''.join(chars_to_rempove)))\n",
    "\n",
    "print(text_version)\n"
   ]
  },
  {
   "cell_type": "code",
   "execution_count": 30,
   "metadata": {},
   "outputs": [
    {
     "name": "stdout",
     "output_type": "stream",
     "text": [
      "[]\n"
     ]
    }
   ],
   "source": [
    "# codice per leggere gli import\n",
    "import re\n",
    "\n",
    "# espressione regolare utilizzata per trovare dentro allo smart contract la versione di solidity richiesta\n",
    "regular_expression = \"import .*;\"\n",
    "# ricerca della stringa pragma dentro lo mart contract tramite espressione regolare\n",
    "match = re.findall(regular_expression, text_file)\n",
    "# caratteri da rimuovere per rimanere con la stringa composta solo dalla versione di solidity\n",
    "chars_to_rempove = [';', '\"']\n",
    "# rimozione dei caratteri\n",
    "imports = []\n",
    "for item in match:\n",
    "    import_text = item.split()[1]\n",
    "    import_text = import_text.translate(str.maketrans('','',''.join(chars_to_rempove)))\n",
    "    imports.append(import_text)\n",
    "\n",
    "print(imports)"
   ]
  },
  {
   "cell_type": "code",
   "execution_count": 32,
   "metadata": {},
   "outputs": [
    {
     "name": "stdout",
     "output_type": "stream",
     "text": [
      "[[{'inputs': [{'internalType': 'string', 'name': '_name', 'type': 'string'}, {'internalType': 'uint256', 'name': '_favoriteNumber', 'type': 'uint256'}], 'name': 'addPerson', 'outputs': [], 'stateMutability': 'nonpayable', 'type': 'function'}, {'inputs': [{'internalType': 'string', 'name': '', 'type': 'string'}], 'name': 'nameToFavoriteNumber', 'outputs': [{'internalType': 'uint256', 'name': '', 'type': 'uint256'}], 'stateMutability': 'view', 'type': 'function'}, {'inputs': [{'internalType': 'uint256', 'name': '', 'type': 'uint256'}], 'name': 'people', 'outputs': [{'internalType': 'uint256', 'name': 'favoriteNumber', 'type': 'uint256'}, {'internalType': 'string', 'name': 'name', 'type': 'string'}], 'stateMutability': 'view', 'type': 'function'}, {'inputs': [], 'name': 'retrieve', 'outputs': [{'internalType': 'uint256', 'name': '', 'type': 'uint256'}], 'stateMutability': 'view', 'type': 'function'}, {'inputs': [{'internalType': 'uint256', 'name': '_favoriteNumber', 'type': 'uint256'}], 'name': 'store', 'outputs': [], 'stateMutability': 'nonpayable', 'type': 'function'}]]\n"
     ]
    }
   ],
   "source": [
    "# AGGIUNGERE IL TRY EXCEPT PER GLI ERRORI DI COMPILAZIONE\n",
    "\n",
    "try:\n",
    "    # Installo la versione del compilatore richiesta dallo smart contract\n",
    "    solcx.install_solc(text_version)\n",
    "\n",
    "    #compilo il file\n",
    "    compiled_solidity = solcx.compile_files([file_path], solc_version=text_version)\n",
    "\n",
    "    # estraggo i bytecode degli smart contract compilati\n",
    "    bytecodes = []\n",
    "    for key in compiled_solidity.keys():\n",
    "        bytecodes.append(compiled_solidity[key]['bin'])\n",
    "\n",
    "    # estraggo le abi degli smart contract\n",
    "    abis = []\n",
    "    for key in compiled_solidity.keys():\n",
    "        abis.append(json.loads(json.dumps(compiled_solidity[key]))['abi'])\n",
    "    print(abis)\n",
    "\n",
    "except Exception as exception: \n",
    "    os.system('clear')\n",
    "    #viene preso l'output restituito da solc e stampata sulla console solo l'informazione di interesse. \n",
    "    jsonError = json.loads(json.dumps(exception.__dict__))\n",
    "    #items = jsonError[\"error_dict\"][0]\n",
    "    print(\"Attenzione! E' stato generato il seguente errore: \\n\" + jsonError[\"stderr_data\"]\n",
    "          + \"In \"+ \"\\\"\" +jsonError[\"command\"][1]+ \"\\\"\"+\n",
    "          \", con return code: \" + str(jsonError[\"return_code\"])+ \".\")\n"
   ]
  },
  {
   "cell_type": "code",
   "execution_count": 82,
   "metadata": {},
   "outputs": [
    {
     "name": "stdout",
     "output_type": "stream",
     "text": [
      "[[{'inputs': [], 'name': 'createSimpleStorageContract', 'outputs': [], 'stateMutability': 'nonpayable', 'type': 'function'}, {'inputs': [{'internalType': 'uint256', 'name': '_simpleStorageIndex', 'type': 'uint256'}], 'name': 'sfGet', 'outputs': [{'internalType': 'uint256', 'name': '', 'type': 'uint256'}], 'stateMutability': 'view', 'type': 'function'}, {'inputs': [{'internalType': 'uint256', 'name': '_simpleStorageIndex', 'type': 'uint256'}, {'internalType': 'uint256', 'name': '_simpleStorageNumber', 'type': 'uint256'}], 'name': 'sfStore', 'outputs': [], 'stateMutability': 'nonpayable', 'type': 'function'}, {'inputs': [{'internalType': 'uint256', 'name': '', 'type': 'uint256'}], 'name': 'simpleStorageArray', 'outputs': [{'internalType': 'contract SimpleStorage', 'name': '', 'type': 'address'}], 'stateMutability': 'view', 'type': 'function'}]]\n"
     ]
    }
   ],
   "source": [
    "#QUESTO BLOCCO NON SERVE SE VIENE ESEGUITO QUELLO SOPRA\n",
    "# LA COMPILAZIONE NON FUNZIONA CON GLI IMPORT\n",
    "#try:\n",
    "solcx.install_solc(text_version)\n",
    "    # Compilo il file contenente lo smart contract\n",
    "compiled_sol = compile_standard(\n",
    "        {\n",
    "            \"language\": \"Solidity\",\n",
    "            \"sources\": {file_name: {\"content\": text_file}},\n",
    "            \"settings\": {\n",
    "                \"outputSelection\": {\n",
    "                    \"*\": {\n",
    "                        \"*\": [\"abi\", \"metadata\", \"evm.bytecode\", \"evm.bytecode.sourceMap\"] # output needed to interact with and deploy contract \n",
    "                    }\n",
    "                }\n",
    "            },\n",
    "        },\n",
    "        solc_version=text_version,\n",
    "        allow_paths=imports\n",
    "    )\n",
    "\n",
    "    # get bytecodes\n",
    "bytecodes = []\n",
    "for item in compiled_sol[\"contracts\"][file_name].keys():\n",
    "    bytecodes.append(compiled_sol[\"contracts\"][file_name][item][\"evm\"][\"bytecode\"][\"object\"])   \n",
    "\n",
    "\n",
    "abis = []\n",
    "for item in compiled_sol[\"contracts\"][file_name].keys(): \n",
    "    abis.append(json.loads(compiled_sol[\"contracts\"][file_name][item][\"metadata\"])[\"output\"][\"abi\"])\n",
    "\n",
    "print(abis)\n",
    "#except:\n",
    "#    os.system('clear')\n",
    "#    print(\"La compilazione dello smart contract non è andata a buon fine\")"
   ]
  },
  {
   "cell_type": "code",
   "execution_count": 40,
   "metadata": {},
   "outputs": [
    {
     "name": "stdout",
     "output_type": "stream",
     "text": [
      "1\n"
     ]
    }
   ],
   "source": [
    "try:\n",
    "     # richiesta all'on-chain-manager su quale shard deployare lo smart contract\n",
    "     shard_where_deploy = on_chain_manager.functions.get_shard_where_deploy().call()\n",
    "     print(shard_where_deploy)\n",
    "except Exception as exception:\n",
    "     os.system('clear')\n",
    "     print(\"Errore: \")\n",
    "     print(exception)\n",
    "     print(\"La richiesta, allo smart contract on-chain manager, riguardo la shard su cui fare il deploy dello smart contract non è andata a buon fine\")\n",
    "     # return\n"
   ]
  },
  {
   "cell_type": "code",
   "execution_count": 43,
   "metadata": {},
   "outputs": [
    {
     "name": "stdout",
     "output_type": "stream",
     "text": [
      "HTTPConnectionPool(host='localhost', port=8546): Read timed out. (read timeout=10)\n",
      "0x964DdAF49cb956756A7e53FbaF448AA8076af101\n"
     ]
    }
   ],
   "source": [
    "# controllo aggiuntivo che non fa mai male\n",
    "if shard_where_deploy<1 or shard_where_deploy>3:\n",
    "     print(\n",
    "          \"Errore: \\n\"\n",
    "          + \"La shard su cui effettuare il deploy dello smart contract deve essere compresa tra 1 e 3\"\n",
    "     )\n",
    "\n",
    "# switch in base alla shard sulla quale effettuare il deploy\n",
    "if shard_where_deploy == 1:\n",
    "     blockchain_where_deploy = s1\n",
    "elif shard_where_deploy == 2:\n",
    "     blockchain_where_deploy = s2\n",
    "elif shard_where_deploy == 3:\n",
    "     blockchain_where_deploy = s3"
   ]
  },
  {
   "cell_type": "code",
   "execution_count": 53,
   "metadata": {},
   "outputs": [
    {
     "name": "stdout",
     "output_type": "stream",
     "text": [
      "3.3333307178479315e+20 Gwei\n"
     ]
    }
   ],
   "source": [
    "# stima del gas necessario per fare il deploy dello smart contract e per aggiornare l'on-chain manager\n",
    "contratto = blockchain_where_deploy.eth.contract(abi=abis[0], bytecode=bytecodes[0])\n",
    "stima_gas_deploy = contratto.constructor().estimate_gas()\n",
    "stima_gas_aggiornamento_on_chain = on_chain_manager.functions.register_contract('0x0000000000000000000000000000000000000000', shard_where_deploy).estimate_gas()\n",
    "\n",
    "bilancio_onchain_gwei = onchain.eth.get_balance(onchain.eth.accounts[0])/(10^9)\n",
    "bilancio_shard_gwei = blockchain_where_deploy.eth.get_balance(blockchain_where_deploy.eth.accounts[0])/(10^9)\n",
    "print(str(onchain.eth.get_balance(onchain.eth.accounts[0])/(10^9))+' Gwei')\n",
    "\n",
    "\n",
    "\n",
    "if (stima_gas_deploy > bilancio_shard_gwei) or (stima_gas_aggiornamento_on_chain > bilancio_onchain_gwei):\n",
    "    os.system('clear')\n",
    "    "
   ]
  },
  {
   "cell_type": "code",
   "execution_count": 46,
   "metadata": {},
   "outputs": [
    {
     "name": "stdout",
     "output_type": "stream",
     "text": [
      "68272\n",
      "366119\n",
      "0x2D3dF847037a569AbDcC0cfe342759a053aD8E03\n"
     ]
    }
   ],
   "source": [
    "# esecuzione della transazione di deploy dello smart contract\n",
    "try:\n",
    "     tx_hash = contratto.constructor().transact()\n",
    "     tx_receipt = blockchain_where_deploy.eth.wait_for_transaction_receipt(tx_hash)\n",
    "except Exception as exception:\n",
    "     os.system('clear')\n",
    "     print(\"Errore: \\n\")\n",
    "     print(exception)\n",
    "     print(\"La transazione di deploy dello smart contract non è andata a buon fine\")\n",
    "\n",
    "\n",
    "# creazione dell'oggetto contratto per interagirci\n",
    "contratto_deployato = blockchain_where_deploy.eth.contract(\n",
    "     address=tx_receipt.contractAddress,\n",
    "     abi=abi\n",
    ")\n",
    "\n",
    "print(contratto_deployato.address)\n"
   ]
  },
  {
   "cell_type": "code",
   "execution_count": 89,
   "metadata": {},
   "outputs": [
    {
     "name": "stdout",
     "output_type": "stream",
     "text": [
      "2\n"
     ]
    }
   ],
   "source": [
    "# Registro che il contratto è stato deployato sull'onchain manager\n",
    "on_chain_manager.functions.register_contract(contratto_deployato.address, shard_where_deploy).transact()\n",
    "\n",
    "# Test per vedere se il prossimo smart contract viene detto di deployarlo sulla shard dopo\n",
    "print(on_chain_manager.functions.get_shard_where_deploy().call())"
   ]
  }
 ],
 "metadata": {
  "kernelspec": {
   "display_name": "Python 3",
   "language": "python",
   "name": "python3"
  },
  "language_info": {
   "codemirror_mode": {
    "name": "ipython",
    "version": 3
   },
   "file_extension": ".py",
   "mimetype": "text/x-python",
   "name": "python",
   "nbconvert_exporter": "python",
   "pygments_lexer": "ipython3",
   "version": "3.9.2"
  },
  "orig_nbformat": 4
 },
 "nbformat": 4,
 "nbformat_minor": 2
}
