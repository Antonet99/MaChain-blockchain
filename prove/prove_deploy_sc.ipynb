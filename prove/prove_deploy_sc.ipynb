{
 "cells": [
  {
   "cell_type": "code",
   "execution_count": 69,
   "metadata": {},
   "outputs": [
    {
     "data": {
      "text/plain": [
       "(True, True, True, True)"
      ]
     },
     "execution_count": 69,
     "metadata": {},
     "output_type": "execute_result"
    }
   ],
   "source": [
    "from web3 import Web3\n",
    "from solcx import install_solc, compile_standard\n",
    "import solcx\n",
    "import json\n",
    "import os\n",
    "\n",
    "install_solc(version='0.8.0')\n",
    "\n",
    "onchain = Web3(Web3.HTTPProvider('http://localhost:8545')) #on-chain\n",
    "\n",
    "s1 = Web3(Web3.HTTPProvider('http://localhost:8546')) #shard 1\n",
    "s2 = Web3(Web3.HTTPProvider('http://localhost:8547')) #shard 2\n",
    "s3 = Web3(Web3.HTTPProvider('http://localhost:8548')) #shard 3\n",
    "\n",
    "onchain.isConnected(), s1.isConnected(), s2.isConnected(), s3.isConnected()"
   ]
  },
  {
   "cell_type": "code",
   "execution_count": 70,
   "metadata": {},
   "outputs": [],
   "source": [
    "# DEPLOY DELL'ON CHAIN MANAGER\n",
    "\n",
    "path_on_chain = \"prova_on_chain.sol\"\n",
    "# Leggo il file contenente lo smart contract\n",
    "with open(path_on_chain, \"r\") as file:\n",
    "    text_file = file.read()\n",
    "\n",
    "solcx.install_solc('0.8.0')\n",
    "\n",
    "# Compilo il file contenente lo smart contract\n",
    "compiled_sol = compile_standard(\n",
    "        {\n",
    "            \"language\": \"Solidity\",\n",
    "            \"sources\": {\"prova_on_chain.sol\": {\"content\": text_file}},\n",
    "            \"settings\": {\n",
    "                \"outputSelection\": {\n",
    "                    \"*\": {\n",
    "                        \"*\": [\"abi\", \"metadata\", \"evm.bytecode\", \"evm.bytecode.sourceMap\"] # output needed to interact with and deploy contract \n",
    "                    }\n",
    "                }\n",
    "            },\n",
    "        },\n",
    "        solc_version='0.8.0',\n",
    "    )\n",
    "\n",
    "# get bytecodes\n",
    "bytecode = compiled_sol[\"contracts\"][\"prova_on_chain.sol\"][\"on_chain_manager\"][\"evm\"][\"bytecode\"][\"object\"]\n",
    "\n",
    "# get abi\n",
    "abi = json.loads(compiled_sol[\"contracts\"][\"prova_on_chain.sol\"][\"on_chain_manager\"][\"metadata\"])[\"output\"][\"abi\"]\n",
    "\n",
    "# seleziono l'account di default\n",
    "# DA MODIFICARE METTENDO GLI ACCOUNT INSERITI DALL'UTENTE\n",
    "onchain.eth.default_account = onchain.eth.accounts[0]\n",
    "s1.eth.default_account = s1.eth.accounts[0]\n",
    "s2.eth.default_account = s2.eth.accounts[0]\n",
    "s3.eth.default_account = s3.eth.accounts[0]\n",
    "\n",
    "# deploy dello smart contract dell'onchain manager\n",
    "On_Chain_Manager = onchain.eth.contract(abi=abi, bytecode=bytecode)\n",
    "tx_hash = On_Chain_Manager.constructor().transact()\n",
    "tx_receipt = onchain.eth.wait_for_transaction_receipt(tx_hash)\n",
    "\n",
    "# creazione dell'oggetto contract per lo smart contract dell'onchain manager in modo da poterci interagire\n",
    "on_chain_manager = onchain.eth.contract(\n",
    "     address=tx_receipt.contractAddress,\n",
    "     abi=abi\n",
    ")"
   ]
  },
  {
   "cell_type": "code",
   "execution_count": 71,
   "metadata": {},
   "outputs": [
    {
     "name": "stdout",
     "output_type": "stream",
     "text": [
      "Inserisci la path del file solidity dello smart contract di cui fare il deploy\n"
     ]
    }
   ],
   "source": [
    "# codice per far inserire all'utente il path dello smart contract da deployare\n",
    "\n",
    "print(\"Inserisci la path del file solidity dello smart contract di cui fare il deploy\")\n",
    "file_path = input()\n",
    "\n",
    "# controllo che il file esista effettivamente e che sia di tipo .sol\n",
    "while not os.path.exists(file_path) and os.path.splitext(file_path)[1] != \".sol\":\n",
    "    os.system('clear')\n",
    "    print(\"La path deve esistere e il file deve essere di tipo .sol\")\n",
    "    file_path = input()\n",
    "    \n",
    "# Leggo il file contenente lo smart contract\n",
    "with open(file_path, \"r\") as file:\n",
    "    text_file = file.read()"
   ]
  },
  {
   "cell_type": "code",
   "execution_count": 72,
   "metadata": {},
   "outputs": [
    {
     "name": "stdout",
     "output_type": "stream",
     "text": [
      "StorageFactory.sol\n"
     ]
    }
   ],
   "source": [
    "# codice per ottenere solo con il nome del file\n",
    "import ntpath\n",
    "file_name = ntpath.basename(file_path)\n",
    "print(file_name)"
   ]
  },
  {
   "cell_type": "code",
   "execution_count": 73,
   "metadata": {},
   "outputs": [
    {
     "name": "stdout",
     "output_type": "stream",
     "text": [
      "0.6.0\n"
     ]
    }
   ],
   "source": [
    "# codice per leggere la versione di solidity\n",
    "import re\n",
    "\n",
    "# espressione regolare utilizzata per trovare dentro allo smart contract la versione di solidity richiesta\n",
    "regular_expression = \"pragma solidity .*;\"\n",
    "# ricerca della stringa pragma dentro lo mart contract tramite espressione regolare\n",
    "match = re.search(regular_expression, text_file)\n",
    "# caratteri da rimuovere per rimanere con la stringa composta solo dalla versione di solidity\n",
    "chars_to_rempove = ['>', '^', '=', ';']\n",
    "# rimozione dei caratteri\n",
    "text_version = match.group().split()[2].translate(str.maketrans('','',''.join(chars_to_rempove)))\n",
    "\n",
    "print(text_version)\n"
   ]
  },
  {
   "cell_type": "code",
   "execution_count": 74,
   "metadata": {},
   "outputs": [
    {
     "name": "stdout",
     "output_type": "stream",
     "text": [
      "['/Users/andreacivitarese/VS_projects/ProgettoSSB/2022/SimpleStorage.sol']\n"
     ]
    }
   ],
   "source": [
    "# codice per leggere gli import\n",
    "import re\n",
    "\n",
    "# espressione regolare utilizzata per trovare dentro allo smart contract la versione di solidity richiesta\n",
    "regular_expression = \"import .*;\"\n",
    "# ricerca della stringa pragma dentro lo mart contract tramite espressione regolare\n",
    "match = re.findall(regular_expression, text_file)\n",
    "# caratteri da rimuovere per rimanere con la stringa composta solo dalla versione di solidity\n",
    "chars_to_rempove = [';', '\"']\n",
    "# rimozione dei caratteri\n",
    "imports = []\n",
    "for item in match:\n",
    "    import_text = item.split()[1]\n",
    "    import_text = import_text.translate(str.maketrans('','',''.join(chars_to_rempove)))\n",
    "    imports.append(import_text)\n",
    "\n",
    "print(imports)"
   ]
  },
  {
   "cell_type": "code",
   "execution_count": 77,
   "metadata": {},
   "outputs": [],
   "source": [
    "# AGGIUNGERE IL TRY EXCEPT PER GLI ERRORI DI COMPILAZIONE\n",
    "\n",
    "# Installo la versione del compilatore richiesta dallo smart contract\n",
    "solcx.install_solc(text_version)\n",
    "\n",
    "#compilo il file\n",
    "compiled_solidity = solcx.compile_files([file_path], solc_version=text_version)\n",
    "\n",
    "# estraggo i bytecode degli smart contract compilati\n",
    "bytecodes = []\n",
    "for key in compiled_solidity.keys():\n",
    "    bytecodes.append(compiled_solidity[key]['bin'])\n",
    "\n",
    "# estraggo le abi degli smart contract\n",
    "abis = []\n",
    "for key in compiled_solidity.keys():\n",
    "    abis.append(json.loads(json.dumps(compiled_solidity[key]))['abi'])\n"
   ]
  },
  {
   "cell_type": "code",
   "execution_count": 82,
   "metadata": {},
   "outputs": [
    {
     "name": "stdout",
     "output_type": "stream",
     "text": [
      "[[{'inputs': [], 'name': 'createSimpleStorageContract', 'outputs': [], 'stateMutability': 'nonpayable', 'type': 'function'}, {'inputs': [{'internalType': 'uint256', 'name': '_simpleStorageIndex', 'type': 'uint256'}], 'name': 'sfGet', 'outputs': [{'internalType': 'uint256', 'name': '', 'type': 'uint256'}], 'stateMutability': 'view', 'type': 'function'}, {'inputs': [{'internalType': 'uint256', 'name': '_simpleStorageIndex', 'type': 'uint256'}, {'internalType': 'uint256', 'name': '_simpleStorageNumber', 'type': 'uint256'}], 'name': 'sfStore', 'outputs': [], 'stateMutability': 'nonpayable', 'type': 'function'}, {'inputs': [{'internalType': 'uint256', 'name': '', 'type': 'uint256'}], 'name': 'simpleStorageArray', 'outputs': [{'internalType': 'contract SimpleStorage', 'name': '', 'type': 'address'}], 'stateMutability': 'view', 'type': 'function'}]]\n"
     ]
    }
   ],
   "source": [
    "#QUESTO BLOCCO NON SERVE SE VIENE ESEGUITO QUELLO SOPRA\n",
    "#try:\n",
    "solcx.install_solc(text_version)\n",
    "    # Compilo il file contenente lo smart contract\n",
    "compiled_sol = compile_standard(\n",
    "        {\n",
    "            \"language\": \"Solidity\",\n",
    "            \"sources\": {file_name: {\"content\": text_file}},\n",
    "            \"settings\": {\n",
    "                \"outputSelection\": {\n",
    "                    \"*\": {\n",
    "                        \"*\": [\"abi\", \"metadata\", \"evm.bytecode\", \"evm.bytecode.sourceMap\"] # output needed to interact with and deploy contract \n",
    "                    }\n",
    "                }\n",
    "            },\n",
    "        },\n",
    "        solc_version=text_version,\n",
    "        allow_paths=imports\n",
    "    )\n",
    "\n",
    "    # get bytecodes\n",
    "bytecodes = []\n",
    "for item in compiled_sol[\"contracts\"][file_name].keys():\n",
    "    bytecodes.append(compiled_sol[\"contracts\"][file_name][item][\"evm\"][\"bytecode\"][\"object\"])   \n",
    "\n",
    "    # get abi\n",
    "abis = []\n",
    "for item in compiled_sol[\"contracts\"][file_name].keys(): \n",
    "    abis.append(json.loads(compiled_sol[\"contracts\"][file_name][item][\"metadata\"])[\"output\"][\"abi\"])\n",
    "\n",
    "print(abis)\n",
    "#except:\n",
    "#    os.system('clear')\n",
    "#    print(\"La compilazione dello smart contract non è andata a buon fine\")"
   ]
  },
  {
   "cell_type": "code",
   "execution_count": 86,
   "metadata": {},
   "outputs": [
    {
     "name": "stdout",
     "output_type": "stream",
     "text": [
      "1\n",
      "0x4C3c212D2C1aeF772Bff6b3256C6c2f9064bf2fd\n"
     ]
    }
   ],
   "source": [
    "# richiesta all'on-chain-manager su quale shard deployare lo smart contract\n",
    "shard_where_deploy = on_chain_manager.functions.get_shard_where_deploy().call()\n",
    "print(shard_where_deploy)\n",
    "\n",
    "if shard_where_deploy == 1:\n",
    "     blockchain_where_deploy = s1\n",
    "elif shard_where_deploy == 2:\n",
    "     blockchain_where_deploy = s2\n",
    "elif shard_where_deploy == 3:\n",
    "     blockchain_where_deploy = s3\n",
    "\n",
    "\n",
    "# esecuzione della transazione di deploy dello smart contract\n",
    "contratto = blockchain_where_deploy.eth.contract(abi=abis[0], bytecode=bytecodes[0])\n",
    "tx_hash = contratto.constructor().transact()\n",
    "tx_receipt = blockchain_where_deploy.eth.wait_for_transaction_receipt(tx_hash)\n",
    "\n",
    "# creazione dell'oggetto contratto per interagirci\n",
    "contratto_deployato = blockchain_where_deploy.eth.contract(\n",
    "     address=tx_receipt.contractAddress,\n",
    "     abi=abi\n",
    ")\n",
    "\n",
    "print(contratto_deployato.address)\n"
   ]
  },
  {
   "cell_type": "code",
   "execution_count": 89,
   "metadata": {},
   "outputs": [
    {
     "name": "stdout",
     "output_type": "stream",
     "text": [
      "2\n"
     ]
    }
   ],
   "source": [
    "# Registro che il contratto è stato deployato sull'onchain manager\n",
    "on_chain_manager.functions.register_contract(contratto_deployato.address, shard_where_deploy).transact()\n",
    "\n",
    "# Test per vedere se il prossimo smart contract viene detto di deployarlo sulla shard dopo\n",
    "print(on_chain_manager.functions.get_shard_where_deploy().call())"
   ]
  }
 ],
 "metadata": {
  "kernelspec": {
   "display_name": "Python 3",
   "language": "python",
   "name": "python3"
  },
  "language_info": {
   "codemirror_mode": {
    "name": "ipython",
    "version": 3
   },
   "file_extension": ".py",
   "mimetype": "text/x-python",
   "name": "python",
   "nbconvert_exporter": "python",
   "pygments_lexer": "ipython3",
   "version": "3.9.2"
  },
  "orig_nbformat": 4
 },
 "nbformat": 4,
 "nbformat_minor": 2
}
