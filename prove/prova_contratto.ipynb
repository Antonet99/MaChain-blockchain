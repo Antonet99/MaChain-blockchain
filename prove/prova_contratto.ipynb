{
 "cells": [
  {
   "cell_type": "code",
   "execution_count": 8,
   "metadata": {},
   "outputs": [
    {
     "data": {
      "text/plain": [
       "(True, True, True, True)"
      ]
     },
     "execution_count": 8,
     "metadata": {},
     "output_type": "execute_result"
    }
   ],
   "source": [
    "from web3 import Web3\n",
    "import solcx\n",
    "from solcx import install_solc\n",
    "from solcx import compile_source\n",
    "\n",
    "solcx.install_solc('0.7.0')\n",
    "\n",
    "onchain = Web3(Web3.HTTPProvider('http://localhost:8545')) #on-chain\n",
    "\n",
    "s1 = Web3(Web3.HTTPProvider('http://localhost:8546')) #shard 1\n",
    "s2 = Web3(Web3.HTTPProvider('http://localhost:8547')) #shard 2\n",
    "s3 = Web3(Web3.HTTPProvider('http://localhost:8548')) #shard 3\n",
    "\n",
    "onchain.isConnected(), s1.isConnected(), s2.isConnected(), s3.isConnected()"
   ]
  },
  {
   "cell_type": "code",
   "execution_count": 10,
   "metadata": {},
   "outputs": [
    {
     "ename": "SolcError",
     "evalue": "An error occurred during execution\n> command: `/Users/andreacivitarese/.solcx/solc-v0.7.0 --combined-json abi,bin-runtime -`\n> return code: `1`\n> stdout:\n\n> stderr:\nError: Expected pragma, import directive or contract/interface/library/struct/enum definition.\n --> <stdin>:1:1:\n  |\n1 | ['prova_on_chain.sol']\n  | ^",
     "output_type": "error",
     "traceback": [
      "\u001b[0;31m---------------------------------------------------------------------------\u001b[0m",
      "\u001b[0;31mSolcError\u001b[0m                                 Traceback (most recent call last)",
      "Cell \u001b[0;32mIn[10], line 1\u001b[0m\n\u001b[0;32m----> 1\u001b[0m solcx\u001b[39m.\u001b[39;49mcompile_source(\n\u001b[1;32m      2\u001b[0m      [\u001b[39m\"\u001b[39;49m\u001b[39mprova_on_chain.sol\u001b[39;49m\u001b[39m\"\u001b[39;49m],\n\u001b[1;32m      3\u001b[0m      output_values\u001b[39m=\u001b[39;49m[\u001b[39m\"\u001b[39;49m\u001b[39mabi\u001b[39;49m\u001b[39m\"\u001b[39;49m, \u001b[39m\"\u001b[39;49m\u001b[39mbin-runtime\u001b[39;49m\u001b[39m\"\u001b[39;49m],\n\u001b[1;32m      4\u001b[0m      solc_version\u001b[39m=\u001b[39;49m\u001b[39m'\u001b[39;49m\u001b[39m0.7.0\u001b[39;49m\u001b[39m'\u001b[39;49m\n\u001b[1;32m      5\u001b[0m )\n",
      "File \u001b[0;32m/Library/Frameworks/Python.framework/Versions/3.9/lib/python3.9/site-packages/solcx/main.py:112\u001b[0m, in \u001b[0;36mcompile_source\u001b[0;34m(source, output_values, import_remappings, base_path, allow_paths, output_dir, overwrite, evm_version, revert_strings, metadata_hash, metadata_literal, optimize, optimize_runs, optimize_yul, no_optimize_yul, yul_optimizations, solc_binary, solc_version, allow_empty)\u001b[0m\n\u001b[1;32m     30\u001b[0m \u001b[39mdef\u001b[39;00m \u001b[39mcompile_source\u001b[39m(\n\u001b[1;32m     31\u001b[0m     source: \u001b[39mstr\u001b[39m,\n\u001b[1;32m     32\u001b[0m     output_values: List \u001b[39m=\u001b[39m \u001b[39mNone\u001b[39;00m,\n\u001b[0;32m   (...)\u001b[0m\n\u001b[1;32m     49\u001b[0m     allow_empty: \u001b[39mbool\u001b[39m \u001b[39m=\u001b[39m \u001b[39mFalse\u001b[39;00m,\n\u001b[1;32m     50\u001b[0m ) \u001b[39m-\u001b[39m\u001b[39m>\u001b[39m Dict:\n\u001b[1;32m     51\u001b[0m \u001b[39m    \u001b[39m\u001b[39m\"\"\"\u001b[39;00m\n\u001b[1;32m     52\u001b[0m \u001b[39m    Compile a Solidity contract.\u001b[39;00m\n\u001b[1;32m     53\u001b[0m \n\u001b[0;32m   (...)\u001b[0m\n\u001b[1;32m    110\u001b[0m \u001b[39m        Compiler output. The source file name is given as `<stdin>`.\u001b[39;00m\n\u001b[1;32m    111\u001b[0m \u001b[39m    \"\"\"\u001b[39;00m\n\u001b[0;32m--> 112\u001b[0m     \u001b[39mreturn\u001b[39;00m _compile_combined_json(\n\u001b[1;32m    113\u001b[0m         solc_binary\u001b[39m=\u001b[39;49msolc_binary,\n\u001b[1;32m    114\u001b[0m         solc_version\u001b[39m=\u001b[39;49msolc_version,\n\u001b[1;32m    115\u001b[0m         stdin\u001b[39m=\u001b[39;49msource,\n\u001b[1;32m    116\u001b[0m         output_values\u001b[39m=\u001b[39;49moutput_values,\n\u001b[1;32m    117\u001b[0m         import_remappings\u001b[39m=\u001b[39;49mimport_remappings,\n\u001b[1;32m    118\u001b[0m         base_path\u001b[39m=\u001b[39;49mbase_path,\n\u001b[1;32m    119\u001b[0m         allow_paths\u001b[39m=\u001b[39;49mallow_paths,\n\u001b[1;32m    120\u001b[0m         output_dir\u001b[39m=\u001b[39;49moutput_dir,\n\u001b[1;32m    121\u001b[0m         overwrite\u001b[39m=\u001b[39;49moverwrite,\n\u001b[1;32m    122\u001b[0m         evm_version\u001b[39m=\u001b[39;49mevm_version,\n\u001b[1;32m    123\u001b[0m         revert_strings\u001b[39m=\u001b[39;49mrevert_strings,\n\u001b[1;32m    124\u001b[0m         metadata_hash\u001b[39m=\u001b[39;49mmetadata_hash,\n\u001b[1;32m    125\u001b[0m         metadata_literal\u001b[39m=\u001b[39;49mmetadata_literal,\n\u001b[1;32m    126\u001b[0m         optimize\u001b[39m=\u001b[39;49moptimize,\n\u001b[1;32m    127\u001b[0m         optimize_runs\u001b[39m=\u001b[39;49moptimize_runs,\n\u001b[1;32m    128\u001b[0m         no_optimize_yul\u001b[39m=\u001b[39;49mno_optimize_yul,\n\u001b[1;32m    129\u001b[0m         yul_optimizations\u001b[39m=\u001b[39;49myul_optimizations,\n\u001b[1;32m    130\u001b[0m         allow_empty\u001b[39m=\u001b[39;49mallow_empty,\n\u001b[1;32m    131\u001b[0m     )\n",
      "File \u001b[0;32m/Library/Frameworks/Python.framework/Versions/3.9/lib/python3.9/site-packages/solcx/main.py:291\u001b[0m, in \u001b[0;36m_compile_combined_json\u001b[0;34m(output_values, solc_binary, solc_version, output_dir, overwrite, allow_empty, **kwargs)\u001b[0m\n\u001b[1;32m    286\u001b[0m         target_path \u001b[39m=\u001b[39m output_dir\u001b[39m.\u001b[39mjoinpath(\u001b[39m\"\u001b[39m\u001b[39mcombined.json\u001b[39m\u001b[39m\"\u001b[39m)\n\u001b[1;32m    287\u001b[0m         \u001b[39mraise\u001b[39;00m \u001b[39mFileExistsError\u001b[39;00m(\n\u001b[1;32m    288\u001b[0m             \u001b[39mf\u001b[39m\u001b[39m\"\u001b[39m\u001b[39mTarget output file \u001b[39m\u001b[39m{\u001b[39;00mtarget_path\u001b[39m}\u001b[39;00m\u001b[39m already exists - use overwrite=True to overwrite\u001b[39m\u001b[39m\"\u001b[39m\n\u001b[1;32m    289\u001b[0m         )\n\u001b[0;32m--> 291\u001b[0m stdoutdata, stderrdata, command, proc \u001b[39m=\u001b[39m wrapper\u001b[39m.\u001b[39;49msolc_wrapper(\n\u001b[1;32m    292\u001b[0m     solc_binary\u001b[39m=\u001b[39;49msolc_binary,\n\u001b[1;32m    293\u001b[0m     combined_json\u001b[39m=\u001b[39;49mcombined_json,\n\u001b[1;32m    294\u001b[0m     output_dir\u001b[39m=\u001b[39;49moutput_dir,\n\u001b[1;32m    295\u001b[0m     overwrite\u001b[39m=\u001b[39;49moverwrite,\n\u001b[1;32m    296\u001b[0m     \u001b[39m*\u001b[39;49m\u001b[39m*\u001b[39;49mkwargs,\n\u001b[1;32m    297\u001b[0m )\n\u001b[1;32m    299\u001b[0m \u001b[39mif\u001b[39;00m output_dir:\n\u001b[1;32m    300\u001b[0m     output_path \u001b[39m=\u001b[39m Path(output_dir)\u001b[39m.\u001b[39mjoinpath(\u001b[39m\"\u001b[39m\u001b[39mcombined.json\u001b[39m\u001b[39m\"\u001b[39m)\n",
      "File \u001b[0;32m/Library/Frameworks/Python.framework/Versions/3.9/lib/python3.9/site-packages/solcx/wrapper.py:158\u001b[0m, in \u001b[0;36msolc_wrapper\u001b[0;34m(solc_binary, stdin, source_files, import_remappings, success_return_code, **kwargs)\u001b[0m\n\u001b[1;32m    153\u001b[0m         flag \u001b[39m=\u001b[39m flag\u001b[39m.\u001b[39msplit(\u001b[39m\"\u001b[39m\u001b[39m \u001b[39m\u001b[39m\"\u001b[39m)[\u001b[39m-\u001b[39m\u001b[39m1\u001b[39m]\n\u001b[1;32m    154\u001b[0m         \u001b[39mraise\u001b[39;00m UnknownValue(\n\u001b[1;32m    155\u001b[0m             \u001b[39mf\u001b[39m\u001b[39m\"\u001b[39m\u001b[39msolc \u001b[39m\u001b[39m{\u001b[39;00msolc_version\u001b[39m}\u001b[39;00m\u001b[39m does not accept \u001b[39m\u001b[39m'\u001b[39m\u001b[39m{\u001b[39;00moption\u001b[39m}\u001b[39;00m\u001b[39m'\u001b[39m\u001b[39m as an option for the \u001b[39m\u001b[39m'\u001b[39m\u001b[39m{\u001b[39;00mflag\u001b[39m}\u001b[39;00m\u001b[39m'\u001b[39m\u001b[39m flag\u001b[39m\u001b[39m\"\u001b[39m\n\u001b[1;32m    156\u001b[0m         )\n\u001b[0;32m--> 158\u001b[0m     \u001b[39mraise\u001b[39;00m SolcError(\n\u001b[1;32m    159\u001b[0m         command\u001b[39m=\u001b[39mcommand,\n\u001b[1;32m    160\u001b[0m         return_code\u001b[39m=\u001b[39mproc\u001b[39m.\u001b[39mreturncode,\n\u001b[1;32m    161\u001b[0m         stdin_data\u001b[39m=\u001b[39mstdin,\n\u001b[1;32m    162\u001b[0m         stdout_data\u001b[39m=\u001b[39mstdoutdata,\n\u001b[1;32m    163\u001b[0m         stderr_data\u001b[39m=\u001b[39mstderrdata,\n\u001b[1;32m    164\u001b[0m     )\n\u001b[1;32m    166\u001b[0m \u001b[39mreturn\u001b[39;00m stdoutdata, stderrdata, command, proc\n",
      "\u001b[0;31mSolcError\u001b[0m: An error occurred during execution\n> command: `/Users/andreacivitarese/.solcx/solc-v0.7.0 --combined-json abi,bin-runtime -`\n> return code: `1`\n> stdout:\n\n> stderr:\nError: Expected pragma, import directive or contract/interface/library/struct/enum definition.\n --> <stdin>:1:1:\n  |\n1 | ['prova_on_chain.sol']\n  | ^"
     ]
    }
   ],
   "source": [
    "solcx.compile_source(\n",
    "     [\"prova_on_chain.sol\"],\n",
    "     output_values=[\"abi\", \"bin-runtime\"],\n",
    "     solc_version='0.7.0'\n",
    ")"
   ]
  },
  {
   "cell_type": "code",
   "execution_count": null,
   "metadata": {},
   "outputs": [],
   "source": []
  }
 ],
 "metadata": {
  "kernelspec": {
   "display_name": "Python 3",
   "language": "python",
   "name": "python3"
  },
  "language_info": {
   "codemirror_mode": {
    "name": "ipython",
    "version": 3
   },
   "file_extension": ".py",
   "mimetype": "text/x-python",
   "name": "python",
   "nbconvert_exporter": "python",
   "pygments_lexer": "ipython3",
   "version": "3.9.2"
  },
  "orig_nbformat": 4,
  "vscode": {
   "interpreter": {
    "hash": "aee8b7b246df8f9039afb4144a1f6fd8d2ca17a180786b69acc140d282b71a49"
   }
  }
 },
 "nbformat": 4,
 "nbformat_minor": 2
}
