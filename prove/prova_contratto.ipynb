{
 "cells": [
  {
   "cell_type": "code",
   "execution_count": 2,
   "metadata": {},
   "outputs": [
    {
     "data": {
      "text/plain": [
       "(True, True, True, True)"
      ]
     },
     "execution_count": 2,
     "metadata": {},
     "output_type": "execute_result"
    }
   ],
   "source": [
    "from web3 import Web3\n",
    "import solcx\n",
    "from solcx import install_solc\n",
    "from solcx import compile_source\n",
    "\n",
    "solcx.install_solc('0.7.0')\n",
    "\n",
    "onchain = Web3(Web3.HTTPProvider('http://192.168.1.100:8546')) #on-chain\n",
    "\n",
    "s1 = Web3(Web3.HTTPProvider('http://192.168.1.100:8547')) #shard 1\n",
    "s2 = Web3(Web3.HTTPProvider('http://192.168.1.100:8548')) #shard 2\n",
    "s3 = Web3(Web3.HTTPProvider('http://192.168.1.100:8549')) #shard 3\n",
    "\n",
    "onchain.isConnected(), s1.isConnected(), s2.isConnected(), s3.isConnected()"
   ]
  },
  {
   "cell_type": "code",
   "execution_count": 3,
   "metadata": {},
   "outputs": [
    {
     "data": {
      "text/plain": [
       "{'prova_on_chain.sol:on_chain_manager': {'abi': [{'anonymous': False,\n",
       "    'inputs': [{'indexed': False,\n",
       "      'internalType': 'uint8',\n",
       "      'name': 'shard_number',\n",
       "      'type': 'uint8'},\n",
       "     {'indexed': False,\n",
       "      'internalType': 'address',\n",
       "      'name': 'contract_adress',\n",
       "      'type': 'address'}],\n",
       "    'name': 'Contract_registered',\n",
       "    'type': 'event'},\n",
       "   {'inputs': [{'internalType': 'address',\n",
       "      'name': 'contract_adress',\n",
       "      'type': 'address'}],\n",
       "    'name': 'get_shard_where_contract',\n",
       "    'outputs': [{'internalType': 'uint8',\n",
       "      'name': 'shard_number',\n",
       "      'type': 'uint8'}],\n",
       "    'stateMutability': 'view',\n",
       "    'type': 'function'},\n",
       "   {'inputs': [],\n",
       "    'name': 'get_shard_where_deploy',\n",
       "    'outputs': [{'internalType': 'uint8',\n",
       "      'name': 'shard_number',\n",
       "      'type': 'uint8'}],\n",
       "    'stateMutability': 'view',\n",
       "    'type': 'function'},\n",
       "   {'inputs': [{'internalType': 'address',\n",
       "      'name': 'contract_adress',\n",
       "      'type': 'address'},\n",
       "     {'internalType': 'uint8', 'name': 'shard_number', 'type': 'uint8'}],\n",
       "    'name': 'register_contract',\n",
       "    'outputs': [],\n",
       "    'stateMutability': 'nonpayable',\n",
       "    'type': 'function'}],\n",
       "  'bin-runtime': '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'}}"
      ]
     },
     "execution_count": 3,
     "metadata": {},
     "output_type": "execute_result"
    }
   ],
   "source": [
    "solcx.compile_files(\n",
    "     [\"prova_on_chain.sol\"],\n",
    "     output_values=[\"abi\", \"bin-runtime\"],\n",
    "     solc_version='0.7.0'\n",
    ")"
   ]
  },
  {
   "cell_type": "code",
   "execution_count": 6,
   "metadata": {},
   "outputs": [
    {
     "data": {
      "text/plain": [
       "{'/Users/antoniobaio/Desktop/Progetti/ProgettoSSB/2022/mySimpleStorage.sol:SimpleStorage': {'abi': [{'inputs': [],\n",
       "    'name': 'destruct',\n",
       "    'outputs': [],\n",
       "    'stateMutability': 'nonpayable',\n",
       "    'type': 'function'},\n",
       "   {'inputs': [],\n",
       "    'name': 'get',\n",
       "    'outputs': [{'internalType': 'uint256', 'name': '', 'type': 'uint256'}],\n",
       "    'stateMutability': 'view',\n",
       "    'type': 'function'},\n",
       "   {'inputs': [{'internalType': 'uint256', 'name': 'x', 'type': 'uint256'}],\n",
       "    'name': 'set',\n",
       "    'outputs': [],\n",
       "    'stateMutability': 'nonpayable',\n",
       "    'type': 'function'},\n",
       "   {'inputs': [],\n",
       "    'name': 'storedData',\n",
       "    'outputs': [{'internalType': 'uint256', 'name': '', 'type': 'uint256'}],\n",
       "    'stateMutability': 'view',\n",
       "    'type': 'function'}],\n",
       "  'bin-runtime': '6080604052348015600f57600080fd5b506004361060465760003560e01c80632a1afcd914604b5780632b68b9c614606757806360fe47b114606f5780636d4ce63c14609a575b600080fd5b605160b6565b6040518082815260200191505060405180910390f35b606d60bc565b005b609860048036036020811015608357600080fd5b810190808035906020019092919050505060d5565b005b60a060df565b6040518082815260200191505060405180910390f35b60005481565b3073ffffffffffffffffffffffffffffffffffffffff16ff5b8060008190555050565b6000805490509056fea264697066735822122060886972f463422b451d6e3496124c2cad6811817688769c76d3879c0366075764736f6c63430007000033'}}"
      ]
     },
     "execution_count": 6,
     "metadata": {},
     "output_type": "execute_result"
    }
   ],
   "source": [
    "solcx.compile_files(\n",
    "     [\"/Users/antoniobaio/Desktop/Progetti/ProgettoSSB/2022/mySimpleStorage.sol\"],\n",
    "     output_values=[\"abi\", \"bin-runtime\"],\n",
    "     solc_version='0.7.0'\n",
    ")"
   ]
  }
 ],
 "metadata": {
  "kernelspec": {
   "display_name": "Python 3",
   "language": "python",
   "name": "python3"
  },
  "language_info": {
   "codemirror_mode": {
    "name": "ipython",
    "version": 3
   },
   "file_extension": ".py",
   "mimetype": "text/x-python",
   "name": "python",
   "nbconvert_exporter": "python",
   "pygments_lexer": "ipython3",
   "version": "3.10.8"
  },
  "orig_nbformat": 4,
  "vscode": {
   "interpreter": {
    "hash": "aee8b7b246df8f9039afb4144a1f6fd8d2ca17a180786b69acc140d282b71a49"
   }
  }
 },
 "nbformat": 4,
 "nbformat_minor": 2
}
