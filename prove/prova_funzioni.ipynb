{
 "cells": [
  {
   "cell_type": "code",
   "execution_count": 17,
   "metadata": {},
   "outputs": [
    {
     "data": {
      "text/plain": [
       "True"
      ]
     },
     "execution_count": 17,
     "metadata": {},
     "output_type": "execute_result"
    }
   ],
   "source": [
    "from web3 import Web3\n",
    "import solcx\n",
    "import json\n",
    "\n",
    "install_solc(version='latest')\n",
    "\n",
    "s3 = Web3(Web3.HTTPProvider('http://192.168.1.100:8545'))\n",
    "s3.is_connected()"
   ]
  },
  {
   "cell_type": "code",
   "execution_count": 18,
   "metadata": {},
   "outputs": [],
   "source": [
    "# compilazione del contratto da fle invece che da sorgente, con output ABI e bytecode\n",
    "compiled_file = solcx.compile_files(\n",
    "     [\"greeter.sol\"],\n",
    "     output_values=[\"abi\", \"bin\", \"bin-runtime\"],\n",
    "     solc_version='0.8.0'\n",
    ")"
   ]
  },
  {
   "cell_type": "code",
   "execution_count": 19,
   "metadata": {},
   "outputs": [],
   "source": [
    "contract_id, contract_interface = compiled_file.popitem()\n",
    "\n",
    "#salvataggio di ABI e bytecode in variabili\n",
    "bytecode = contract_interface['bin']\n",
    "abi = contract_interface['abi']\n",
    "\n",
    "# scrittura ABI su JSON\n",
    "with open('greeter_abi.json', 'w') as f:\n",
    "    json.dump(abi, f)"
   ]
  },
  {
   "cell_type": "code",
   "execution_count": 20,
   "metadata": {},
   "outputs": [],
   "source": [
    "# settaggio account di default\n",
    "s3.eth.default_account = s3.eth.accounts[0]\n",
    "\n",
    "# recupero (OPZIONALE) di ABI da file JSON\n",
    "with open('greeter_abi.json') as f:\n",
    "    abi = json.load(f)\n",
    "\n",
    "# creazione del contratto\n",
    "Greeter = s3.eth.contract(abi=abi, bytecode=bytecode)\n"
   ]
  },
  {
   "cell_type": "code",
   "execution_count": 21,
   "metadata": {},
   "outputs": [],
   "source": [
    "# deploy del contratto e invocazione del costruttore\n",
    "tx_hash = Greeter.constructor().transact()\n",
    "\n",
    "# attesa della conferma della transazione\n",
    "tx_receipt = s3.eth.wait_for_transaction_receipt(tx_hash)\n",
    "\n",
    "# creazione di un'istanza del contratto con assegnazione di abi e indirizzo del contratto\n",
    "greeter = s3.eth.contract(\n",
    "     address=tx_receipt.contractAddress,\n",
    "     abi=abi\n",
    ")"
   ]
  },
  {
   "cell_type": "code",
   "execution_count": 22,
   "metadata": {},
   "outputs": [
    {
     "data": {
      "text/plain": [
       "'Hello'"
      ]
     },
     "execution_count": 22,
     "metadata": {},
     "output_type": "execute_result"
    }
   ],
   "source": [
    "# invocazione della funzione greet() del contratto, \n",
    "# che restituisce il valore di default della variabile impostata nel costruttore del contratto \n",
    "greeter.functions.greet().call()"
   ]
  },
  {
   "cell_type": "code",
   "execution_count": 23,
   "metadata": {},
   "outputs": [
    {
     "data": {
      "text/plain": [
       "'Ciao, come stai?'"
      ]
     },
     "execution_count": 23,
     "metadata": {},
     "output_type": "execute_result"
    }
   ],
   "source": [
    "# invocazione della funzione setGreeting() del contratto,\n",
    "# che modifica il valore della variabile greeting ad uno a scelta dell'utente\n",
    "tx_hash = greeter.functions.setGreeting('Ciao, come stai?').transact()\n",
    "\n",
    "# attesa della conferma della transazione\n",
    "tx_receipt = s3.eth.wait_for_transaction_receipt(tx_hash)\n",
    "\n",
    "# esempio di invocazione della funzione greet() del contratto,\n",
    "# che restituisce il valore della variabile greeting modificato\n",
    "greeter.functions.greet().call()"
   ]
  }
 ],
 "metadata": {
  "kernelspec": {
   "display_name": "Python 3",
   "language": "python",
   "name": "python3"
  },
  "language_info": {
   "codemirror_mode": {
    "name": "ipython",
    "version": 3
   },
   "file_extension": ".py",
   "mimetype": "text/x-python",
   "name": "python",
   "nbconvert_exporter": "python",
   "pygments_lexer": "ipython3",
   "version": "3.11.2"
  },
  "orig_nbformat": 4,
  "vscode": {
   "interpreter": {
    "hash": "31f2aee4e71d21fbe5cf8b01ff0e069b9275f58929596ceb00d14d90e3e16cd6"
   }
  }
 },
 "nbformat": 4,
 "nbformat_minor": 2
}
