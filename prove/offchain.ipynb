{
 "cells": [
  {
   "cell_type": "code",
   "execution_count": 26,
   "metadata": {},
   "outputs": [
    {
     "data": {
      "text/plain": [
       "(True, True, True, True)"
      ]
     },
     "execution_count": 26,
     "metadata": {},
     "output_type": "execute_result"
    }
   ],
   "source": [
    "from web3 import Web3\n",
    "from solcx import install_solc\n",
    "from solcx import compile_source\n",
    "import solcx\n",
    "\n",
    "install_solc(version='latest')\n",
    "\n",
    "onchain = Web3(Web3.HTTPProvider('http://192.168.1.49:8545')) #on-chain\n",
    "\n",
    "s1 = Web3(Web3.HTTPProvider('http://192.168.1.49:8546')) #shard 1\n",
    "s2 = Web3(Web3.HTTPProvider('http://192.168.1.49:8547')) #shard 2\n",
    "s3 = Web3(Web3.HTTPProvider('http://192.168.1.49:8548')) #shard 3\n",
    "\n",
    "onchain.isConnected(), s1.isConnected(), s2.isConnected(), s3.isConnected()"
   ]
  },
  {
   "cell_type": "code",
   "execution_count": 12,
   "metadata": {},
   "outputs": [],
   "source": [
    "compiled_sol = compile_source(\n",
    "     '''\n",
    "     pragma solidity >0.5.0;\n",
    "\n",
    "     contract Greeter {\n",
    "         string public greeting;\n",
    "\n",
    "         constructor() public {\n",
    "             greeting = 'Hello';\n",
    "         }\n",
    "\n",
    "         function setGreeting(string memory _greeting) public {\n",
    "             greeting = _greeting;\n",
    "         }\n",
    "\n",
    "         function greet() view public returns (string memory) {\n",
    "             return greeting;\n",
    "         }\n",
    "     }\n",
    "     ''',\n",
    "     output_values=['abi', 'bin']\n",
    ")"
   ]
  },
  {
   "cell_type": "code",
   "execution_count": 13,
   "metadata": {},
   "outputs": [],
   "source": [
    "contract_id, contract_interface = compiled_sol.popitem()\n",
    "\n",
    "bytecode = contract_interface['bin']\n",
    "abi = contract_interface['abi']"
   ]
  },
  {
   "cell_type": "code",
   "execution_count": 16,
   "metadata": {},
   "outputs": [],
   "source": [
    "s1.eth.default_account = w3.eth.accounts[0]\n",
    "Greeter = s1.eth.contract(abi=abi, bytecode=bytecode)\n",
    "tx_hash = Greeter.constructor().transact()\n",
    "tx_receipt = s1.eth.wait_for_transaction_receipt(tx_hash)\n"
   ]
  },
  {
   "cell_type": "code",
   "execution_count": 21,
   "metadata": {},
   "outputs": [],
   "source": [
    "greeter = s1.eth.contract(\n",
    "     address=tx_receipt.contractAddress,\n",
    "     abi=abi\n",
    ")"
   ]
  },
  {
   "cell_type": "code",
   "execution_count": 23,
   "metadata": {},
   "outputs": [
    {
     "data": {
      "text/plain": [
       "'Hello'"
      ]
     },
     "execution_count": 23,
     "metadata": {},
     "output_type": "execute_result"
    }
   ],
   "source": [
    "greeter.functions.greet().call()"
   ]
  },
  {
   "cell_type": "code",
   "execution_count": 25,
   "metadata": {},
   "outputs": [
    {
     "data": {
      "text/plain": [
       "'Ue bellezz'"
      ]
     },
     "execution_count": 25,
     "metadata": {},
     "output_type": "execute_result"
    }
   ],
   "source": [
    "tx_hash = greeter.functions.setGreeting('Ue bellezz').transact()\n",
    "\n",
    "tx_receipt = w3.eth.wait_for_transaction_receipt(tx_hash)\n",
    "greeter.functions.greet().call()"
   ]
  },
  {
   "cell_type": "code",
   "execution_count": null,
   "metadata": {},
   "outputs": [],
   "source": []
  }
 ],
 "metadata": {
  "kernelspec": {
   "display_name": "Python 3",
   "language": "python",
   "name": "python3"
  },
  "language_info": {
   "codemirror_mode": {
    "name": "ipython",
    "version": 3
   },
   "file_extension": ".py",
   "mimetype": "text/x-python",
   "name": "python",
   "nbconvert_exporter": "python",
   "pygments_lexer": "ipython3",
   "version": "3.9.6"
  },
  "orig_nbformat": 4,
  "vscode": {
   "interpreter": {
    "hash": "31f2aee4e71d21fbe5cf8b01ff0e069b9275f58929596ceb00d14d90e3e16cd6"
   }
  }
 },
 "nbformat": 4,
 "nbformat_minor": 2
}
