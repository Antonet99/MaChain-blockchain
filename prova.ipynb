{
 "cells": [
  {
   "attachments": {},
   "cell_type": "markdown",
   "metadata": {},
   "source": [
    "**CON LIBRERIA CRYPTOGRAPHY**"
   ]
  },
  {
   "cell_type": "code",
   "execution_count": 20,
   "metadata": {},
   "outputs": [],
   "source": [
    "from cryptography.fernet import Fernet\n",
    "path = \"/Users/antoniobaio/Desktop/Progetti/ProgettoSSB/userpass.json\""
   ]
  },
  {
   "cell_type": "code",
   "execution_count": 21,
   "metadata": {},
   "outputs": [],
   "source": [
    "key = Fernet.generate_key()\n",
    " \n",
    "# string the key in a file\n",
    "with open('filekey.key', 'wb') as filekey:\n",
    "   filekey.write(key)"
   ]
  },
  {
   "cell_type": "code",
   "execution_count": 22,
   "metadata": {},
   "outputs": [],
   "source": [
    "# opening the key\n",
    "with open('filekey.key', 'rb') as filekey:\n",
    "\tkey = filekey.read()\n",
    "\n",
    "# using the generated key\n",
    "fernet = Fernet(key)\n",
    "\n",
    "# opening the original file to encrypt\n",
    "with open(path, 'rb') as file:\n",
    "\toriginal = file.read()\n",
    "\t\n",
    "# encrypting the file\n",
    "encrypted = fernet.encrypt(original)"
   ]
  },
  {
   "cell_type": "code",
   "execution_count": 24,
   "metadata": {},
   "outputs": [
    {
     "data": {
      "text/plain": [
       "b'gAAAAABkSSsD_uk_quNot2IHYVuBqPs8tvhIwTl23jPX73t2BNBgLCb-AIWkL_nMMMuK6qWIdgd3aTGvXae13vxaagU0g4E9rJ2ngf-wUfeZk2VdXzmhnBYH9oSrO2EPtRW0c8ZNl1RBoWKnJXcvfbebMmvN6UDCKQe2lMGqnKg3iwLDDRC_BdhK_g4RlNv5riVrs-qnYiABkSl0_pfdzHRx-8Q9sQvWHUSEeaD9tmd4ETwh97WjQSFcEqXO9R31j4cK-c03WafSfs4Pg4VwcMURxDn1ku9tqNopVKK2PYYTI1Bi-L0OXxQBWlOl9L1W2pC49vGr3jNoSSXf1biceh-pDa1c9VRlPNkV0TNVxWGfECjP02jbPxqgq6xzv7WtP_dC4I2zItRv9n_ebYqubYhCDYasQOilEi1zYzAGfa-4eANl10tKz4_vXa5hS3hvuEzlWsD5ykRV3QrnT99T5N9a00qoCdwwxjgchfq7Xby6zGFWXs0nSP01yq-32NdjAkhgDqUgA6GwtP7LZywIVk9SdRkLWbT7d6E7D0g9HEhfXbAglqA9WVV82G9Mj2WctnpChfJ4yDu0Zp_uD109nm3izRNZQ9N8Huw9s5A_4NOj1YW5B8_sjlhIuLhmwMjrdDCxuR3lUJ18vC-cuE9yr3M98P6RmZBRPzm8RmKat9sSU3u7TNmXVwCLVz_PzNFwOiR9XrF0cv3AKz2FfqyWN2cA-FCPbZREmEX3J8GHJ6cn6VYkby7mIKgrhb-EGTB_iIVaVeI_sjNDnfbJUUEoBfGgQ2j1lTyGsBuSkeOjIOd_MDXvHl5JMgdy1WSaqDjJfHrUbiRERihPoDg9Cz1wbAAXNvSXlztS7sRICXkS24OCUJcXZzi0uBbgD6ny79LFfYvkFN8gH2KoZisOaKh5_hdZZShg6bIDZK00swogU07qcKq7ZPOV5Yl94Pf27NHAYvBfD2_hKbygujv5vRl4BfDP29nCqusu67mq9Q4ek0CbVMF2LGdMSIOqAotxUGkvw1fZR_D9-pXYljvBwGfTn75vGvK-adoM1rlaXjzVIPNn4oxhwuZoRYq8OJ2C3m1gjEUOICYG0CRPfWWUU5kPEXmSW03w16TSOuDiRVewYo5tYL6siV-epnjwRjsFbnpgOPS-oY89Uhc4w7oEYqVPDRGAg79TGKWrGYy_jslLXGBmpGHsY8q92nhp1cMeRvjj1f8Z9SGpJ01NDfjVUfYtGGzifZhWF_Zn1jKxkBRHMfonBOYFy7Y_RcYyWxY1psqKiraxDaXiTewG'"
      ]
     },
     "execution_count": 24,
     "metadata": {},
     "output_type": "execute_result"
    }
   ],
   "source": [
    "encrypted"
   ]
  },
  {
   "cell_type": "code",
   "execution_count": 26,
   "metadata": {},
   "outputs": [],
   "source": [
    "# opening the file in write mode and\n",
    "# writing the encrypted data\n",
    "with open(path, 'wb') as encrypted_file:\n",
    "\tencrypted_file.write(encrypted)"
   ]
  },
  {
   "attachments": {},
   "cell_type": "markdown",
   "metadata": {},
   "source": [
    "**CON RSA**"
   ]
  },
  {
   "cell_type": "code",
   "execution_count": 34,
   "metadata": {},
   "outputs": [],
   "source": [
    "import rsa\n",
    "\n",
    "# generate public and private keys with\n",
    "# rsa.newkeys method,this method accepts\n",
    "# key length as its parameter\n",
    "# key length should be atleast 16\n",
    "publicKey, privateKey = rsa.newkeys(16)"
   ]
  },
  {
   "cell_type": "code",
   "execution_count": 35,
   "metadata": {},
   "outputs": [
    {
     "data": {
      "text/plain": [
       "(PublicKey(33221, 65537), PrivateKey(33221, 65537, 11093, 239, 139))"
      ]
     },
     "execution_count": 35,
     "metadata": {},
     "output_type": "execute_result"
    }
   ],
   "source": [
    "publicKey, privateKey"
   ]
  },
  {
   "cell_type": "code",
   "execution_count": 36,
   "metadata": {},
   "outputs": [
    {
     "data": {
      "text/plain": [
       "rsa.key.PublicKey"
      ]
     },
     "execution_count": 36,
     "metadata": {},
     "output_type": "execute_result"
    }
   ],
   "source": [
    "type(publicKey)"
   ]
  },
  {
   "cell_type": "code",
   "execution_count": 30,
   "metadata": {},
   "outputs": [],
   "source": [
    "\n",
    "# this is the string that we will be encrypting\n",
    "message = \"CIAO\"\n",
    "\n",
    "# rsa.encrypt method is used to encrypt\n",
    "# string with public key string should be\n",
    "# encode to byte string before encryption\n",
    "# with encode method\n",
    "encMessage = rsa.encrypt(message.encode(),\n",
    "\t\t\t\t\t\tpublicKey)\n",
    "\n"
   ]
  },
  {
   "cell_type": "code",
   "execution_count": 31,
   "metadata": {},
   "outputs": [
    {
     "name": "stdout",
     "output_type": "stream",
     "text": [
      "original string:  CIAO\n",
      "encrypted string:  b'F1k\\x91\\x12dj\\xad\\x12TY\\xc3\\xf3\\xe2\\xc2\\xbf\\xe6\\x94<\\xb3\\x80\\xbf\\xac\\x04\\xff[\\x83\\xae\\xaeb\\x04yhG\\n\\xd6\\xc0\\x97\\xf7\\xa2\\x83\\xe5R\\xd3\\x8b{\\xbek\\xb1^\\xc6G*4D\\x00\\xb5m\\xf6\\x88\\xbc\\xa0c\\x9f'\n"
     ]
    }
   ],
   "source": [
    "print(\"original string: \", message)\n",
    "print(\"encrypted string: \", encMessage)"
   ]
  },
  {
   "cell_type": "code",
   "execution_count": 32,
   "metadata": {},
   "outputs": [
    {
     "name": "stdout",
     "output_type": "stream",
     "text": [
      "decrypted string:  CIAO\n"
     ]
    }
   ],
   "source": [
    "# the encrypted message can be decrypted\n",
    "# with ras.decrypt method and private key\n",
    "# decrypt method returns encoded byte string,\n",
    "# use decode method to convert it to string\n",
    "# public key cannot be used for decryption\n",
    "decMessage = rsa.decrypt(encMessage, privateKey).decode()\n",
    "\n",
    "print(\"decrypted string: \", decMessage)"
   ]
  },
  {
   "attachments": {},
   "cell_type": "markdown",
   "metadata": {},
   "source": [
    "**ALTRO**"
   ]
  },
  {
   "cell_type": "code",
   "execution_count": 16,
   "metadata": {},
   "outputs": [],
   "source": [
    "import secrets\n",
    "from base64 import urlsafe_b64encode as b64e, urlsafe_b64decode as b64d\n",
    "\n",
    "from cryptography.fernet import Fernet\n",
    "from cryptography.hazmat.backends import default_backend\n",
    "from cryptography.hazmat.primitives import hashes\n",
    "from cryptography.hazmat.primitives.kdf.pbkdf2 import PBKDF2HMAC"
   ]
  },
  {
   "cell_type": "code",
   "execution_count": 17,
   "metadata": {},
   "outputs": [],
   "source": [
    "backend = default_backend()\n",
    "iterations = 100_000\n",
    "\n",
    "def _derive_key(password: bytes, salt: bytes, iterations: int = iterations) -> bytes:\n",
    "    \"\"\"Derive a secret key from a given password and salt\"\"\"\n",
    "    kdf = PBKDF2HMAC(\n",
    "        algorithm=hashes.SHA256(), length=32, salt=salt,\n",
    "        iterations=iterations, backend=backend)\n",
    "    return b64e(kdf.derive(password))\n",
    "\n",
    "def password_encrypt(message: bytes, password: str, iterations: int = iterations) -> bytes:\n",
    "    salt = secrets.token_bytes(16)\n",
    "    key = _derive_key(password.encode(), salt, iterations)\n",
    "    return b64e(\n",
    "        b'%b%b%b' % (\n",
    "            salt,\n",
    "            iterations.to_bytes(4, 'big'),\n",
    "            b64d(Fernet(key).encrypt(message)),\n",
    "        )\n",
    "    )\n",
    "\n",
    "def password_decrypt(token: bytes, password: str) -> bytes:\n",
    "    decoded = b64d(token)\n",
    "    salt, iter, token = decoded[:16], decoded[16:20], b64e(decoded[20:])\n",
    "    iterations = int.from_bytes(iter, 'big')\n",
    "    key = _derive_key(password.encode(), salt, iterations)\n",
    "    return Fernet(key).decrypt(token)"
   ]
  },
  {
   "cell_type": "code",
   "execution_count": 38,
   "metadata": {},
   "outputs": [],
   "source": [
    "messaggio = input(\"Inserisci il messaggio: \")\n",
    "password = input(\"Inserisci la password: \")"
   ]
  },
  {
   "cell_type": "code",
   "execution_count": 40,
   "metadata": {},
   "outputs": [
    {
     "data": {
      "text/plain": [
       "bytes"
      ]
     },
     "execution_count": 40,
     "metadata": {},
     "output_type": "execute_result"
    }
   ],
   "source": [
    "type(token)"
   ]
  },
  {
   "cell_type": "code",
   "execution_count": 39,
   "metadata": {},
   "outputs": [
    {
     "data": {
      "text/plain": [
       "b'6OilqBcLg_PP0TQWVWRfuQABhqCAAAAAAGRLlil1q3CKX4AwP92HJQlZRFsVemzZZMaR8c3R7Px4qs2b1YV8wDSEqEAgF6q4cuD4nW78GBZo0WMDCq8iaO_4TdDk'"
      ]
     },
     "execution_count": 39,
     "metadata": {},
     "output_type": "execute_result"
    }
   ],
   "source": [
    "token = password_encrypt(messaggio.encode(), password)\n",
    "token"
   ]
  },
  {
   "cell_type": "code",
   "execution_count": 41,
   "metadata": {},
   "outputs": [],
   "source": [
    "dec_token = token.decode()"
   ]
  },
  {
   "cell_type": "code",
   "execution_count": 42,
   "metadata": {},
   "outputs": [
    {
     "data": {
      "text/plain": [
       "'6OilqBcLg_PP0TQWVWRfuQABhqCAAAAAAGRLlil1q3CKX4AwP92HJQlZRFsVemzZZMaR8c3R7Px4qs2b1YV8wDSEqEAgF6q4cuD4nW78GBZo0WMDCq8iaO_4TdDk'"
      ]
     },
     "execution_count": 42,
     "metadata": {},
     "output_type": "execute_result"
    }
   ],
   "source": [
    "dec_token"
   ]
  },
  {
   "cell_type": "code",
   "execution_count": 43,
   "metadata": {},
   "outputs": [
    {
     "data": {
      "text/plain": [
       "b'6OilqBcLg_PP0TQWVWRfuQABhqCAAAAAAGRLlil1q3CKX4AwP92HJQlZRFsVemzZZMaR8c3R7Px4qs2b1YV8wDSEqEAgF6q4cuD4nW78GBZo0WMDCq8iaO_4TdDk'"
      ]
     },
     "execution_count": 43,
     "metadata": {},
     "output_type": "execute_result"
    }
   ],
   "source": [
    "dec_token.encode()"
   ]
  },
  {
   "cell_type": "code",
   "execution_count": 45,
   "metadata": {},
   "outputs": [
    {
     "data": {
      "text/plain": [
       "True"
      ]
     },
     "execution_count": 45,
     "metadata": {},
     "output_type": "execute_result"
    }
   ],
   "source": [
    "token == dec_token.encode()"
   ]
  },
  {
   "cell_type": "code",
   "execution_count": 22,
   "metadata": {},
   "outputs": [],
   "source": [
    "password = \"abcd\""
   ]
  },
  {
   "cell_type": "code",
   "execution_count": 37,
   "metadata": {},
   "outputs": [
    {
     "ename": "Error",
     "evalue": "Invalid base64-encoded string: number of data characters (125) cannot be 1 more than a multiple of 4",
     "output_type": "error",
     "traceback": [
      "\u001b[0;31m---------------------------------------------------------------------------\u001b[0m",
      "\u001b[0;31mError\u001b[0m                                     Traceback (most recent call last)",
      "Cell \u001b[0;32mIn[37], line 1\u001b[0m\n\u001b[0;32m----> 1\u001b[0m password_decrypt(token0, password)\u001b[39m.\u001b[39mdecode()\n",
      "Cell \u001b[0;32mIn[17], line 23\u001b[0m, in \u001b[0;36mpassword_decrypt\u001b[0;34m(token, password)\u001b[0m\n\u001b[1;32m     22\u001b[0m \u001b[39mdef\u001b[39;00m \u001b[39mpassword_decrypt\u001b[39m(token: \u001b[39mbytes\u001b[39m, password: \u001b[39mstr\u001b[39m) \u001b[39m-\u001b[39m\u001b[39m>\u001b[39m \u001b[39mbytes\u001b[39m:\n\u001b[0;32m---> 23\u001b[0m     decoded \u001b[39m=\u001b[39m b64d(token)\n\u001b[1;32m     24\u001b[0m     salt, \u001b[39miter\u001b[39m, token \u001b[39m=\u001b[39m decoded[:\u001b[39m16\u001b[39m], decoded[\u001b[39m16\u001b[39m:\u001b[39m20\u001b[39m], b64e(decoded[\u001b[39m20\u001b[39m:])\n\u001b[1;32m     25\u001b[0m     iterations \u001b[39m=\u001b[39m \u001b[39mint\u001b[39m\u001b[39m.\u001b[39mfrom_bytes(\u001b[39miter\u001b[39m, \u001b[39m'\u001b[39m\u001b[39mbig\u001b[39m\u001b[39m'\u001b[39m)\n",
      "File \u001b[0;32m~/.pyenv/versions/3.11.2/lib/python3.11/base64.py:134\u001b[0m, in \u001b[0;36murlsafe_b64decode\u001b[0;34m(s)\u001b[0m\n\u001b[1;32m    132\u001b[0m s \u001b[39m=\u001b[39m _bytes_from_decode_data(s)\n\u001b[1;32m    133\u001b[0m s \u001b[39m=\u001b[39m s\u001b[39m.\u001b[39mtranslate(_urlsafe_decode_translation)\n\u001b[0;32m--> 134\u001b[0m \u001b[39mreturn\u001b[39;00m b64decode(s)\n",
      "File \u001b[0;32m~/.pyenv/versions/3.11.2/lib/python3.11/base64.py:88\u001b[0m, in \u001b[0;36mb64decode\u001b[0;34m(s, altchars, validate)\u001b[0m\n\u001b[1;32m     86\u001b[0m     \u001b[39massert\u001b[39;00m \u001b[39mlen\u001b[39m(altchars) \u001b[39m==\u001b[39m \u001b[39m2\u001b[39m, \u001b[39mrepr\u001b[39m(altchars)\n\u001b[1;32m     87\u001b[0m     s \u001b[39m=\u001b[39m s\u001b[39m.\u001b[39mtranslate(\u001b[39mbytes\u001b[39m\u001b[39m.\u001b[39mmaketrans(altchars, \u001b[39mb\u001b[39m\u001b[39m'\u001b[39m\u001b[39m+/\u001b[39m\u001b[39m'\u001b[39m))\n\u001b[0;32m---> 88\u001b[0m \u001b[39mreturn\u001b[39;00m binascii\u001b[39m.\u001b[39ma2b_base64(s, strict_mode\u001b[39m=\u001b[39mvalidate)\n",
      "\u001b[0;31mError\u001b[0m: Invalid base64-encoded string: number of data characters (125) cannot be 1 more than a multiple of 4"
     ]
    }
   ],
   "source": [
    "password_decrypt(token0, password).decode()"
   ]
  },
  {
   "attachments": {},
   "cell_type": "markdown",
   "metadata": {},
   "source": [
    "## PASSLIB"
   ]
  },
  {
   "cell_type": "code",
   "execution_count": 2,
   "metadata": {},
   "outputs": [],
   "source": [
    "import passlib\n",
    "from passlib.hash import sha256_crypt"
   ]
  },
  {
   "cell_type": "code",
   "execution_count": 4,
   "metadata": {},
   "outputs": [],
   "source": [
    "prova = \"ciao\"\n",
    "hash = sha256_crypt.hash(prova)"
   ]
  },
  {
   "cell_type": "code",
   "execution_count": 5,
   "metadata": {},
   "outputs": [
    {
     "data": {
      "text/plain": [
       "'$5$rounds=535000$xUczV0GfikOATZMQ$vmvURr.JN6YgS5gjIG/IWBoVWSE3HrDik4dbWx7.11B'"
      ]
     },
     "execution_count": 5,
     "metadata": {},
     "output_type": "execute_result"
    }
   ],
   "source": [
    "hash"
   ]
  },
  {
   "cell_type": "code",
   "execution_count": 8,
   "metadata": {},
   "outputs": [
    {
     "data": {
      "text/plain": [
       "True"
      ]
     },
     "execution_count": 8,
     "metadata": {},
     "output_type": "execute_result"
    }
   ],
   "source": [
    "sha256_crypt.verify(\"ciao\", hash)"
   ]
  },
  {
   "cell_type": "code",
   "execution_count": 14,
   "metadata": {},
   "outputs": [],
   "source": [
    "import re\n",
    "\n",
    "def validate_password(password):\n",
    "    while True:\n",
    "        if len(password) < 8:\n",
    "            print(\"Make sure your password is at lest 8 letters\")\n",
    "            return False\n",
    "        elif re.search('[0-9]',password) is None:\n",
    "            print(\"Make sure your password has a number in it\")\n",
    "            return False\n",
    "        elif re.search('[A-Z]',password) is None: \n",
    "            print(\"Make sure your password has a capital letter in it\")\n",
    "            return False\n",
    "        elif re.search('[^a-zA-Z0-9]',password) is None: \n",
    "            print(\"Make sure your password has a special character in it\")\n",
    "            return False\n",
    "        else:\n",
    "            print(\"Your password seems fine\")\n",
    "            break"
   ]
  },
  {
   "cell_type": "code",
   "execution_count": 15,
   "metadata": {},
   "outputs": [
    {
     "name": "stdout",
     "output_type": "stream",
     "text": [
      "Make sure your password is at lest 8 letters\n"
     ]
    },
    {
     "data": {
      "text/plain": [
       "False"
      ]
     },
     "execution_count": 15,
     "metadata": {},
     "output_type": "execute_result"
    }
   ],
   "source": [
    "validate_password(\"ciao\")"
   ]
  },
  {
   "cell_type": "code",
   "execution_count": 6,
   "metadata": {},
   "outputs": [],
   "source": [
    "import hashlib\n",
    "import getpass"
   ]
  },
  {
   "cell_type": "code",
   "execution_count": 7,
   "metadata": {},
   "outputs": [
    {
     "data": {
      "text/plain": [
       "('Antonio', '1f0ca711df81520887afe0dca099652a249e7eda60348be7327d432b02298652')"
      ]
     },
     "execution_count": 7,
     "metadata": {},
     "output_type": "execute_result"
    }
   ],
   "source": [
    "username = input(\"Inserisci il tuo username: \")\n",
    "hashed_username = hashlib.sha256(username.encode('utf-8')).hexdigest()\n",
    "username, hashed_username"
   ]
  },
  {
   "cell_type": "code",
   "execution_count": 8,
   "metadata": {},
   "outputs": [
    {
     "data": {
      "text/plain": [
       "('Ciaociao0?',\n",
       " 'c893b4a9ac59c39073f746402ab7219c41e0568299110bf88ebe785bed277fcb')"
      ]
     },
     "execution_count": 8,
     "metadata": {},
     "output_type": "execute_result"
    }
   ],
   "source": [
    "password = getpass.getpass(\"Inserisci la tua password: \")\n",
    "hashed_password = hashlib.sha256(password.encode('utf-8')).hexdigest()\n",
    "password, hashed_password"
   ]
  },
  {
   "cell_type": "code",
   "execution_count": 9,
   "metadata": {},
   "outputs": [
    {
     "data": {
      "text/plain": [
       "(b'Antonio',\n",
       " '1f0ca711df81520887afe0dca099652a249e7eda60348be7327d432b02298652')"
      ]
     },
     "execution_count": 9,
     "metadata": {},
     "output_type": "execute_result"
    }
   ],
   "source": [
    "prova = \"Antonio\".encode('utf-8')\n",
    "prova_hash = hashlib.sha256(prova).hexdigest()\n",
    "prova, prova_hash"
   ]
  },
  {
   "cell_type": "code",
   "execution_count": 10,
   "metadata": {},
   "outputs": [
    {
     "data": {
      "text/plain": [
       "True"
      ]
     },
     "execution_count": 10,
     "metadata": {},
     "output_type": "execute_result"
    }
   ],
   "source": [
    "prova_hash == hashed_username"
   ]
  },
  {
   "cell_type": "code",
   "execution_count": null,
   "metadata": {},
   "outputs": [],
   "source": []
  }
 ],
 "metadata": {
  "kernelspec": {
   "display_name": "Python 3",
   "language": "python",
   "name": "python3"
  },
  "language_info": {
   "codemirror_mode": {
    "name": "ipython",
    "version": 3
   },
   "file_extension": ".py",
   "mimetype": "text/x-python",
   "name": "python",
   "nbconvert_exporter": "python",
   "pygments_lexer": "ipython3",
   "version": "3.11.2"
  },
  "orig_nbformat": 4
 },
 "nbformat": 4,
 "nbformat_minor": 2
}
