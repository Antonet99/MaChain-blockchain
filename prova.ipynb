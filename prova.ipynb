{
 "cells": [
  {
   "attachments": {},
   "cell_type": "markdown",
   "metadata": {},
   "source": [
    "**CON LIBRERIA CRYPTOGRAPHY**"
   ]
  },
  {
   "cell_type": "code",
   "execution_count": 20,
   "metadata": {},
   "outputs": [],
   "source": [
    "from cryptography.fernet import Fernet\n",
    "path = \"/Users/antoniobaio/Desktop/Progetti/ProgettoSSB/userpass.json\""
   ]
  },
  {
   "cell_type": "code",
   "execution_count": 21,
   "metadata": {},
   "outputs": [],
   "source": [
    "key = Fernet.generate_key()\n",
    " \n",
    "# string the key in a file\n",
    "with open('filekey.key', 'wb') as filekey:\n",
    "   filekey.write(key)"
   ]
  },
  {
   "cell_type": "code",
   "execution_count": 22,
   "metadata": {},
   "outputs": [],
   "source": [
    "# opening the key\n",
    "with open('filekey.key', 'rb') as filekey:\n",
    "\tkey = filekey.read()\n",
    "\n",
    "# using the generated key\n",
    "fernet = Fernet(key)\n",
    "\n",
    "# opening the original file to encrypt\n",
    "with open(path, 'rb') as file:\n",
    "\toriginal = file.read()\n",
    "\t\n",
    "# encrypting the file\n",
    "encrypted = fernet.encrypt(original)"
   ]
  },
  {
   "cell_type": "code",
   "execution_count": 24,
   "metadata": {},
   "outputs": [
    {
     "data": {
      "text/plain": [
       "b'gAAAAABkSSsD_uk_quNot2IHYVuBqPs8tvhIwTl23jPX73t2BNBgLCb-AIWkL_nMMMuK6qWIdgd3aTGvXae13vxaagU0g4E9rJ2ngf-wUfeZk2VdXzmhnBYH9oSrO2EPtRW0c8ZNl1RBoWKnJXcvfbebMmvN6UDCKQe2lMGqnKg3iwLDDRC_BdhK_g4RlNv5riVrs-qnYiABkSl0_pfdzHRx-8Q9sQvWHUSEeaD9tmd4ETwh97WjQSFcEqXO9R31j4cK-c03WafSfs4Pg4VwcMURxDn1ku9tqNopVKK2PYYTI1Bi-L0OXxQBWlOl9L1W2pC49vGr3jNoSSXf1biceh-pDa1c9VRlPNkV0TNVxWGfECjP02jbPxqgq6xzv7WtP_dC4I2zItRv9n_ebYqubYhCDYasQOilEi1zYzAGfa-4eANl10tKz4_vXa5hS3hvuEzlWsD5ykRV3QrnT99T5N9a00qoCdwwxjgchfq7Xby6zGFWXs0nSP01yq-32NdjAkhgDqUgA6GwtP7LZywIVk9SdRkLWbT7d6E7D0g9HEhfXbAglqA9WVV82G9Mj2WctnpChfJ4yDu0Zp_uD109nm3izRNZQ9N8Huw9s5A_4NOj1YW5B8_sjlhIuLhmwMjrdDCxuR3lUJ18vC-cuE9yr3M98P6RmZBRPzm8RmKat9sSU3u7TNmXVwCLVz_PzNFwOiR9XrF0cv3AKz2FfqyWN2cA-FCPbZREmEX3J8GHJ6cn6VYkby7mIKgrhb-EGTB_iIVaVeI_sjNDnfbJUUEoBfGgQ2j1lTyGsBuSkeOjIOd_MDXvHl5JMgdy1WSaqDjJfHrUbiRERihPoDg9Cz1wbAAXNvSXlztS7sRICXkS24OCUJcXZzi0uBbgD6ny79LFfYvkFN8gH2KoZisOaKh5_hdZZShg6bIDZK00swogU07qcKq7ZPOV5Yl94Pf27NHAYvBfD2_hKbygujv5vRl4BfDP29nCqusu67mq9Q4ek0CbVMF2LGdMSIOqAotxUGkvw1fZR_D9-pXYljvBwGfTn75vGvK-adoM1rlaXjzVIPNn4oxhwuZoRYq8OJ2C3m1gjEUOICYG0CRPfWWUU5kPEXmSW03w16TSOuDiRVewYo5tYL6siV-epnjwRjsFbnpgOPS-oY89Uhc4w7oEYqVPDRGAg79TGKWrGYy_jslLXGBmpGHsY8q92nhp1cMeRvjj1f8Z9SGpJ01NDfjVUfYtGGzifZhWF_Zn1jKxkBRHMfonBOYFy7Y_RcYyWxY1psqKiraxDaXiTewG'"
      ]
     },
     "execution_count": 24,
     "metadata": {},
     "output_type": "execute_result"
    }
   ],
   "source": [
    "encrypted"
   ]
  },
  {
   "cell_type": "code",
   "execution_count": 26,
   "metadata": {},
   "outputs": [],
   "source": [
    "# opening the file in write mode and\n",
    "# writing the encrypted data\n",
    "with open(path, 'wb') as encrypted_file:\n",
    "\tencrypted_file.write(encrypted)"
   ]
  },
  {
   "attachments": {},
   "cell_type": "markdown",
   "metadata": {},
   "source": [
    "**CON RSA**"
   ]
  },
  {
   "cell_type": "code",
   "execution_count": 34,
   "metadata": {},
   "outputs": [],
   "source": [
    "import rsa\n",
    "\n",
    "# generate public and private keys with\n",
    "# rsa.newkeys method,this method accepts\n",
    "# key length as its parameter\n",
    "# key length should be atleast 16\n",
    "publicKey, privateKey = rsa.newkeys(16)"
   ]
  },
  {
   "cell_type": "code",
   "execution_count": 35,
   "metadata": {},
   "outputs": [
    {
     "data": {
      "text/plain": [
       "(PublicKey(33221, 65537), PrivateKey(33221, 65537, 11093, 239, 139))"
      ]
     },
     "execution_count": 35,
     "metadata": {},
     "output_type": "execute_result"
    }
   ],
   "source": [
    "publicKey, privateKey"
   ]
  },
  {
   "cell_type": "code",
   "execution_count": 36,
   "metadata": {},
   "outputs": [
    {
     "data": {
      "text/plain": [
       "rsa.key.PublicKey"
      ]
     },
     "execution_count": 36,
     "metadata": {},
     "output_type": "execute_result"
    }
   ],
   "source": [
    "type(publicKey)"
   ]
  },
  {
   "cell_type": "code",
   "execution_count": 30,
   "metadata": {},
   "outputs": [],
   "source": [
    "\n",
    "# this is the string that we will be encrypting\n",
    "message = \"CIAO\"\n",
    "\n",
    "# rsa.encrypt method is used to encrypt\n",
    "# string with public key string should be\n",
    "# encode to byte string before encryption\n",
    "# with encode method\n",
    "encMessage = rsa.encrypt(message.encode(),\n",
    "\t\t\t\t\t\tpublicKey)\n",
    "\n"
   ]
  },
  {
   "cell_type": "code",
   "execution_count": 31,
   "metadata": {},
   "outputs": [
    {
     "name": "stdout",
     "output_type": "stream",
     "text": [
      "original string:  CIAO\n",
      "encrypted string:  b'F1k\\x91\\x12dj\\xad\\x12TY\\xc3\\xf3\\xe2\\xc2\\xbf\\xe6\\x94<\\xb3\\x80\\xbf\\xac\\x04\\xff[\\x83\\xae\\xaeb\\x04yhG\\n\\xd6\\xc0\\x97\\xf7\\xa2\\x83\\xe5R\\xd3\\x8b{\\xbek\\xb1^\\xc6G*4D\\x00\\xb5m\\xf6\\x88\\xbc\\xa0c\\x9f'\n"
     ]
    }
   ],
   "source": [
    "print(\"original string: \", message)\n",
    "print(\"encrypted string: \", encMessage)"
   ]
  },
  {
   "cell_type": "code",
   "execution_count": 32,
   "metadata": {},
   "outputs": [
    {
     "name": "stdout",
     "output_type": "stream",
     "text": [
      "decrypted string:  CIAO\n"
     ]
    }
   ],
   "source": [
    "# the encrypted message can be decrypted\n",
    "# with ras.decrypt method and private key\n",
    "# decrypt method returns encoded byte string,\n",
    "# use decode method to convert it to string\n",
    "# public key cannot be used for decryption\n",
    "decMessage = rsa.decrypt(encMessage, privateKey).decode()\n",
    "\n",
    "print(\"decrypted string: \", decMessage)"
   ]
  },
  {
   "attachments": {},
   "cell_type": "markdown",
   "metadata": {},
   "source": [
    "**ALTRO**"
   ]
  },
  {
   "cell_type": "code",
   "execution_count": 37,
   "metadata": {},
   "outputs": [],
   "source": [
    "import secrets\n",
    "from base64 import urlsafe_b64encode as b64e, urlsafe_b64decode as b64d\n",
    "\n",
    "from cryptography.fernet import Fernet\n",
    "from cryptography.hazmat.backends import default_backend\n",
    "from cryptography.hazmat.primitives import hashes\n",
    "from cryptography.hazmat.primitives.kdf.pbkdf2 import PBKDF2HMAC"
   ]
  },
  {
   "cell_type": "code",
   "execution_count": 50,
   "metadata": {},
   "outputs": [],
   "source": [
    "backend = default_backend()\n",
    "iterations = 100_000\n",
    "\n",
    "def _derive_key(password: bytes, salt: bytes, iterations: int = iterations) -> bytes:\n",
    "    \"\"\"Derive a secret key from a given password and salt\"\"\"\n",
    "    kdf = PBKDF2HMAC(\n",
    "        algorithm=hashes.SHA256(), length=32, salt=salt,\n",
    "        iterations=iterations, backend=backend)\n",
    "    return b64e(kdf.derive(password))\n",
    "\n",
    "def password_encrypt(message: bytes, password: str, iterations: int = iterations) -> bytes:\n",
    "    salt = secrets.token_bytes(16)\n",
    "    key = _derive_key(password.encode(), salt, iterations)\n",
    "    return b64e(\n",
    "        b'%b%b%b' % (\n",
    "            salt,\n",
    "            iterations.to_bytes(4, 'big'),\n",
    "            b64d(Fernet(key).encrypt(message)),\n",
    "        )\n",
    "    )\n",
    "\n",
    "def password_decrypt(token: bytes, password: str) -> bytes:\n",
    "    decoded = b64d(token)\n",
    "    salt, iter, token = decoded[:16], decoded[16:20], b64e(decoded[20:])\n",
    "    iterations = int.from_bytes(iter, 'big')\n",
    "    key = _derive_key(password.encode(), salt, iterations)\n",
    "    return Fernet(key).decrypt(token)"
   ]
  },
  {
   "cell_type": "code",
   "execution_count": 51,
   "metadata": {},
   "outputs": [],
   "source": [
    "messaggio = input(\"Inserisci il messaggio: \")\n",
    "password = input(\"Inserisci la password: \")"
   ]
  },
  {
   "cell_type": "code",
   "execution_count": 52,
   "metadata": {},
   "outputs": [
    {
     "data": {
      "text/plain": [
       "b'xU-HdfMi7vaqFOtSWayRIQABhqCAAAAAAGRJMjzrYpAfhR9_2C66Oc6VMrZlQ1a8R7UNqTXdael2OAtz_ncTUZstcgl2TZai9uXu1FRKNv-IymLT_RmkgOhO_Ts_'"
      ]
     },
     "execution_count": 52,
     "metadata": {},
     "output_type": "execute_result"
    }
   ],
   "source": [
    "token = password_encrypt(messaggio.encode(), password)\n",
    "token"
   ]
  },
  {
   "cell_type": "code",
   "execution_count": 54,
   "metadata": {},
   "outputs": [],
   "source": [
    "password = \"acde\""
   ]
  },
  {
   "cell_type": "code",
   "execution_count": null,
   "metadata": {},
   "outputs": [],
   "source": [
    "password_decrypt(token, password).decode()"
   ]
  }
 ],
 "metadata": {
  "kernelspec": {
   "display_name": "Python 3",
   "language": "python",
   "name": "python3"
  },
  "language_info": {
   "codemirror_mode": {
    "name": "ipython",
    "version": 3
   },
   "file_extension": ".py",
   "mimetype": "text/x-python",
   "name": "python",
   "nbconvert_exporter": "python",
   "pygments_lexer": "ipython3",
   "version": "3.11.2"
  },
  "orig_nbformat": 4
 },
 "nbformat": 4,
 "nbformat_minor": 2
}
